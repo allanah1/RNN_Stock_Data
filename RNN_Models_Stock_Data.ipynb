{
  "nbformat": 4,
  "nbformat_minor": 0,
  "metadata": {
    "colab": {
      "name": "RNN_Models_Stock_Data.ipynb",
      "provenance": [],
      "collapsed_sections": [],
      "authorship_tag": "ABX9TyNnz8yTj/Jo4R1uk9XVjJHh",
      "include_colab_link": true
    },
    "kernelspec": {
      "name": "python3",
      "display_name": "Python 3"
    },
    "language_info": {
      "name": "python"
    },
    "accelerator": "GPU"
  },
  "cells": [
    {
      "cell_type": "markdown",
      "metadata": {
        "id": "view-in-github",
        "colab_type": "text"
      },
      "source": [
        "<a href=\"https://colab.research.google.com/github/allanah1/RNN_Stock_Data/blob/main/RNN_Models_Stock_Data.ipynb\" target=\"_parent\"><img src=\"https://colab.research.google.com/assets/colab-badge.svg\" alt=\"Open In Colab\"/></a>"
      ]
    },
    {
      "cell_type": "code",
      "metadata": {
        "id": "qVFzOQgdxfYQ"
      },
      "source": [
        "import tensorflow as tf\n",
        "from tensorflow import keras\n",
        "import numpy as np\n",
        "import pandas as pd\n",
        "from sklearn.model_selection import train_test_split\n",
        "from sklearn.preprocessing import MinMaxScaler\n",
        "import matplotlib.pyplot as plt\n",
        "from keras.layers import Dense, Activation, Flatten, BatchNormalization, Dropout, GRU, LSTM, Bidirectional\n",
        "from keras.models import Sequential\n",
        "from tensorflow.keras import layers"
      ],
      "execution_count": null,
      "outputs": []
    },
    {
      "cell_type": "code",
      "metadata": {
        "id": "hV6VNDzLReQE"
      },
      "source": [
        "data = pd.read_csv('q2_dataset.csv') #Assuming the .py file is in the same directory as the dataset"
      ],
      "execution_count": null,
      "outputs": []
    },
    {
      "cell_type": "code",
      "metadata": {
        "id": "ImQzsG9qTHYZ"
      },
      "source": [
        "#Creating new dataset by creating 3 past days of Open, High, Low and Volume of each sample as a feature\n",
        "#Convert the date column to date format so it's easy to sort according to date\n",
        "data['Date'] = pd.to_datetime(data['Date'], dayfirst= False)"
      ],
      "execution_count": null,
      "outputs": []
    },
    {
      "cell_type": "code",
      "metadata": {
        "id": "yUQLvutQXVOe"
      },
      "source": [
        "data.sort_values('Date', ascending = False, inplace = True)"
      ],
      "execution_count": null,
      "outputs": []
    },
    {
      "cell_type": "code",
      "metadata": {
        "id": "e42DUblCXp9b"
      },
      "source": [
        "#Getting the 3 past days of Volume, Open, High and Low\n",
        "data['Volume_Previous_Day'] = data[' Volume'].shift(-1)\n",
        "data['Volume_Previous_2Days'] = data[' Volume'].shift(-2)\n",
        "data['Volume_Previous_3Days'] = data[' Volume'].shift(-3)\n",
        "data['Open_Previous_Day'] = data[' Open'].shift(-1)\n",
        "data['Open_Previous_2Days'] =  data[' Open'].shift(-2)\n",
        "data['Open_Previous_3Days'] =  data[' Open'].shift(-3)\n",
        "data['High_Previous_Day'] =  data[' High'].shift(-1)\n",
        "data['High_Previous_2Days'] = data[' High'].shift(-2)\n",
        "data['High_Previous_3Days'] = data[' High'].shift(-3)\n",
        "data['Low_Previous_Day'] = data[' Low'].shift(-1)\n",
        "data['Low_Previous_2Days'] = data[' Low'].shift(-2)\n",
        "data['Low_Previous_3Days'] = data[' Low'].shift(-3)\n",
        "\n",
        "#Getting the next day Open Value as a Column\n",
        "data['Next_Open'] = data[' Open'].shift(1)"
      ],
      "execution_count": null,
      "outputs": []
    },
    {
      "cell_type": "code",
      "metadata": {
        "id": "DRyn8sHrgQmo"
      },
      "source": [
        "#New Dataframe with the last 3 days of Volume, High, Open and Low and the next day Open as the target\n",
        "df =  data.iloc[:,6:]"
      ],
      "execution_count": null,
      "outputs": []
    },
    {
      "cell_type": "code",
      "metadata": {
        "id": "P4ry9p2shKqs"
      },
      "source": [
        "#Splitting the created dataframe into 70% train and 30% test\n",
        "train_X, test_X,  train_Y, test_Y = train_test_split(df.iloc[:,:-1], df.iloc[:, -1], shuffle = True, test_size = 0.3, random_state = 0)\n",
        "\n",
        "#Saving the train into train_data_RNN.csv and test into test_data_RNN.csv\n",
        "train = pd.concat([train_X, train_Y], axis = 1)\n",
        "test = pd.concat([test_X, test_Y], axis = 1)\n",
        "\n",
        "\n",
        "\n",
        "#train.to_csv('data/train_data_RNN.csv', index = False) #Loacally\n",
        "#test.to_csv('data/test_data_RNN.csv', index = False) #Locally"
      ],
      "execution_count": null,
      "outputs": []
    },
    {
      "cell_type": "code",
      "metadata": {
        "id": "5RuJP42yhVL1"
      },
      "source": [
        "train = pd.read_csv('data/train_data_RNN.csv')"
      ],
      "execution_count": null,
      "outputs": []
    },
    {
      "cell_type": "code",
      "metadata": {
        "colab": {
          "base_uri": "https://localhost:8080/",
          "height": 222
        },
        "id": "S-IT597ThlJ9",
        "outputId": "27512c95-845b-475d-aa45-5932588f0b75"
      },
      "source": [
        "train.head()"
      ],
      "execution_count": null,
      "outputs": [
        {
          "output_type": "execute_result",
          "data": {
            "text/html": [
              "<div>\n",
              "<style scoped>\n",
              "    .dataframe tbody tr th:only-of-type {\n",
              "        vertical-align: middle;\n",
              "    }\n",
              "\n",
              "    .dataframe tbody tr th {\n",
              "        vertical-align: top;\n",
              "    }\n",
              "\n",
              "    .dataframe thead th {\n",
              "        text-align: right;\n",
              "    }\n",
              "</style>\n",
              "<table border=\"1\" class=\"dataframe\">\n",
              "  <thead>\n",
              "    <tr style=\"text-align: right;\">\n",
              "      <th></th>\n",
              "      <th>Volume_Previous_Day</th>\n",
              "      <th>Volume_Previous_2Days</th>\n",
              "      <th>Volume_Previous_3Days</th>\n",
              "      <th>Open_Previous_Day</th>\n",
              "      <th>Open_Previous_2Days</th>\n",
              "      <th>Open_Previous_3Days</th>\n",
              "      <th>High_Previous_Day</th>\n",
              "      <th>High_Previous_2Days</th>\n",
              "      <th>High_Previous_3Days</th>\n",
              "      <th>Low_Previous_Day</th>\n",
              "      <th>Low_Previous_2Days</th>\n",
              "      <th>Low_Previous_3Days</th>\n",
              "      <th>Next_Open</th>\n",
              "    </tr>\n",
              "  </thead>\n",
              "  <tbody>\n",
              "    <tr>\n",
              "      <th>0</th>\n",
              "      <td>23531670.0</td>\n",
              "      <td>22355140.0</td>\n",
              "      <td>20299310.0</td>\n",
              "      <td>139.39</td>\n",
              "      <td>141.50</td>\n",
              "      <td>141.26</td>\n",
              "      <td>141.22</td>\n",
              "      <td>141.74</td>\n",
              "      <td>141.58</td>\n",
              "      <td>138.62</td>\n",
              "      <td>140.35</td>\n",
              "      <td>140.61</td>\n",
              "      <td>143.68</td>\n",
              "    </tr>\n",
              "    <tr>\n",
              "      <th>1</th>\n",
              "      <td>28507780.0</td>\n",
              "      <td>27054320.0</td>\n",
              "      <td>11475920.0</td>\n",
              "      <td>110.78</td>\n",
              "      <td>111.43</td>\n",
              "      <td>111.13</td>\n",
              "      <td>112.03</td>\n",
              "      <td>112.47</td>\n",
              "      <td>111.87</td>\n",
              "      <td>110.07</td>\n",
              "      <td>111.39</td>\n",
              "      <td>110.95</td>\n",
              "      <td>110.37</td>\n",
              "    </tr>\n",
              "    <tr>\n",
              "      <th>2</th>\n",
              "      <td>32931110.0</td>\n",
              "      <td>38313330.0</td>\n",
              "      <td>22676520.0</td>\n",
              "      <td>177.32</td>\n",
              "      <td>178.65</td>\n",
              "      <td>178.50</td>\n",
              "      <td>177.47</td>\n",
              "      <td>179.12</td>\n",
              "      <td>180.24</td>\n",
              "      <td>173.66</td>\n",
              "      <td>177.62</td>\n",
              "      <td>178.07</td>\n",
              "      <td>175.04</td>\n",
              "    </tr>\n",
              "    <tr>\n",
              "      <th>3</th>\n",
              "      <td>30273990.0</td>\n",
              "      <td>33259460.0</td>\n",
              "      <td>29616190.0</td>\n",
              "      <td>156.41</td>\n",
              "      <td>157.50</td>\n",
              "      <td>154.20</td>\n",
              "      <td>156.73</td>\n",
              "      <td>157.88</td>\n",
              "      <td>157.66</td>\n",
              "      <td>152.62</td>\n",
              "      <td>155.98</td>\n",
              "      <td>153.26</td>\n",
              "      <td>154.11</td>\n",
              "    </tr>\n",
              "    <tr>\n",
              "      <th>4</th>\n",
              "      <td>41438280.0</td>\n",
              "      <td>51368540.0</td>\n",
              "      <td>32395870.0</td>\n",
              "      <td>174.51</td>\n",
              "      <td>177.25</td>\n",
              "      <td>177.30</td>\n",
              "      <td>174.95</td>\n",
              "      <td>177.30</td>\n",
              "      <td>179.44</td>\n",
              "      <td>170.53</td>\n",
              "      <td>173.20</td>\n",
              "      <td>176.82</td>\n",
              "      <td>170.16</td>\n",
              "    </tr>\n",
              "  </tbody>\n",
              "</table>\n",
              "</div>"
            ],
            "text/plain": [
              "   Volume_Previous_Day  Volume_Previous_2Days  ...  Low_Previous_3Days  Next_Open\n",
              "0           23531670.0             22355140.0  ...              140.61     143.68\n",
              "1           28507780.0             27054320.0  ...              110.95     110.37\n",
              "2           32931110.0             38313330.0  ...              178.07     175.04\n",
              "3           30273990.0             33259460.0  ...              153.26     154.11\n",
              "4           41438280.0             51368540.0  ...              176.82     170.16\n",
              "\n",
              "[5 rows x 13 columns]"
            ]
          },
          "metadata": {
            "tags": []
          },
          "execution_count": 14
        }
      ]
    },
    {
      "cell_type": "code",
      "metadata": {
        "colab": {
          "base_uri": "https://localhost:8080/",
          "height": 282
        },
        "id": "B8NXHokJy9E7",
        "outputId": "5eaa1f69-1f07-4acb-8a7b-ef32da30cd42"
      },
      "source": [
        "plt.scatter(train.index, train['Next_Open'])"
      ],
      "execution_count": null,
      "outputs": [
        {
          "output_type": "execute_result",
          "data": {
            "text/plain": [
              "<matplotlib.collections.PathCollection at 0x7f4ebed9f950>"
            ]
          },
          "metadata": {
            "tags": []
          },
          "execution_count": 15
        },
        {
          "output_type": "display_data",
          "data": {
            "image/png": "[encoded data removed]",
            "text/plain": [
              "<Figure size 432x288 with 1 Axes>"
            ]
          },
          "metadata": {
            "tags": [],
            "needs_background": "light"
          }
        }
      ]
    },
    {
      "cell_type": "code",
      "metadata": {
        "colab": {
          "base_uri": "https://localhost:8080/"
        },
        "id": "zJgAkcC8zn1g",
        "outputId": "38908cf3-7e46-406c-e948-2a6c0091e5ff"
      },
      "source": [
        "train['Next_Open'].min()"
      ],
      "execution_count": null,
      "outputs": [
        {
          "output_type": "execute_result",
          "data": {
            "text/plain": [
              "90.0"
            ]
          },
          "metadata": {
            "tags": []
          },
          "execution_count": 16
        }
      ]
    },
    {
      "cell_type": "code",
      "metadata": {
        "colab": {
          "base_uri": "https://localhost:8080/"
        },
        "id": "j-oRHDhwzqyA",
        "outputId": "af120f74-bfed-4ab2-9133-893402df569d"
      },
      "source": [
        "train['Next_Open'].max()"
      ],
      "execution_count": null,
      "outputs": [
        {
          "output_type": "execute_result",
          "data": {
            "text/plain": [
              "370.0"
            ]
          },
          "metadata": {
            "tags": []
          },
          "execution_count": 17
        }
      ]
    },
    {
      "cell_type": "code",
      "metadata": {
        "colab": {
          "base_uri": "https://localhost:8080/"
        },
        "id": "t8MKaW0nhmR6",
        "outputId": "c1b25595-9f0a-4fb7-b233-3278524ecf87"
      },
      "source": [
        "train.info()"
      ],
      "execution_count": null,
      "outputs": [
        {
          "output_type": "stream",
          "text": [
            "<class 'pandas.core.frame.DataFrame'>\n",
            "RangeIndex: 881 entries, 0 to 880\n",
            "Data columns (total 13 columns):\n",
            " #   Column                 Non-Null Count  Dtype  \n",
            "---  ------                 --------------  -----  \n",
            " 0   Volume_Previous_Day    880 non-null    float64\n",
            " 1   Volume_Previous_2Days  879 non-null    float64\n",
            " 2   Volume_Previous_3Days  878 non-null    float64\n",
            " 3   Open_Previous_Day      880 non-null    float64\n",
            " 4   Open_Previous_2Days    879 non-null    float64\n",
            " 5   Open_Previous_3Days    878 non-null    float64\n",
            " 6   High_Previous_Day      880 non-null    float64\n",
            " 7   High_Previous_2Days    879 non-null    float64\n",
            " 8   High_Previous_3Days    878 non-null    float64\n",
            " 9   Low_Previous_Day       880 non-null    float64\n",
            " 10  Low_Previous_2Days     879 non-null    float64\n",
            " 11  Low_Previous_3Days     878 non-null    float64\n",
            " 12  Next_Open              880 non-null    float64\n",
            "dtypes: float64(13)\n",
            "memory usage: 89.6 KB\n"
          ],
          "name": "stdout"
        }
      ]
    },
    {
      "cell_type": "code",
      "metadata": {
        "colab": {
          "base_uri": "https://localhost:8080/"
        },
        "id": "TC5BoVfeiDd-",
        "outputId": "63fd6a07-0b0b-4de1-ec43-ab107a032b16"
      },
      "source": [
        "pd.isnull(train).sum()"
      ],
      "execution_count": null,
      "outputs": [
        {
          "output_type": "execute_result",
          "data": {
            "text/plain": [
              "Volume_Previous_Day      1\n",
              "Volume_Previous_2Days    2\n",
              "Volume_Previous_3Days    3\n",
              "Open_Previous_Day        1\n",
              "Open_Previous_2Days      2\n",
              "Open_Previous_3Days      3\n",
              "High_Previous_Day        1\n",
              "High_Previous_2Days      2\n",
              "High_Previous_3Days      3\n",
              "Low_Previous_Day         1\n",
              "Low_Previous_2Days       2\n",
              "Low_Previous_3Days       3\n",
              "Next_Open                1\n",
              "dtype: int64"
            ]
          },
          "metadata": {
            "tags": []
          },
          "execution_count": 19
        }
      ]
    },
    {
      "cell_type": "code",
      "metadata": {
        "id": "sgkkE5SkjJeS"
      },
      "source": [
        "#Because the number of null values is quite insignificant, all rows with null values is dropped\n",
        "train.dropna(inplace = True)"
      ],
      "execution_count": null,
      "outputs": []
    },
    {
      "cell_type": "code",
      "metadata": {
        "id": "Bo2niINIkJRG"
      },
      "source": [
        "#Splitting the train into inputs and outputs\n",
        "X = train.iloc[:,:-1].values\n",
        "y = train.iloc[:, -1].values\n",
        "\n",
        "#Splitting our train set into train and validation sets\n",
        "train_X, validation_X, train_y, validation_y = train_test_split(X, y, test_size = 0.2, shuffle = True, random_state = 0)"
      ],
      "execution_count": null,
      "outputs": []
    },
    {
      "cell_type": "code",
      "metadata": {
        "id": "VDxJbJyJkLY8"
      },
      "source": [
        "#Normalizing inputs to be between 0 and 1. We basically have only 4 features - Open, High, Volume and Low. VOlume is on a much different scale than the rest so this will be normlaized. \n",
        "#Performance will be compared between normalized inputs and inputs without normalization\n",
        "normalizer = MinMaxScaler()\n",
        "train_norm_X = normalizer.fit_transform(train_X)\n",
        "validation_norm_X = normalizer.transform(validation_X)"
      ],
      "execution_count": null,
      "outputs": []
    },
    {
      "cell_type": "code",
      "metadata": {
        "id": "UJYpBh2fHwFg"
      },
      "source": [
        "#Set random seed to get the same results everytime \n",
        "tf.random.set_seed(1234)"
      ],
      "execution_count": null,
      "outputs": []
    },
    {
      "cell_type": "code",
      "metadata": {
        "id": "-HddvcAZpb4Y"
      },
      "source": [
        "#Reshape input to (number of sample, number of timestep, number of features)\n",
        "#One timestep because the train data is randomized and the features from previous days are already features for each sample\n",
        "\n",
        "train_norm_X = train_norm_X.reshape((len(train_norm_X), 1, train_norm_X.shape[1]))\n",
        "validation_norm_X = validation_norm_X.reshape((len(validation_norm_X), 1, validation_norm_X.shape[1]))\n",
        "\n",
        "train_X = train_X.reshape((len(train_X), 1, train_X.shape[1]))\n",
        "validation_X = validation_X.reshape((len(validation_X), 1, validation_X.shape[1]))"
      ],
      "execution_count": null,
      "outputs": []
    },
    {
      "cell_type": "code",
      "metadata": {
        "id": "BM--GsK7qCK9"
      },
      "source": [
        "#Building RNN Models \n",
        "#GRU models are the latest. We will test out GRU and LSTM models\n",
        "\n",
        "#LSTM\n",
        "lstm_model_one = Sequential()\n",
        "lstm_model_one.add(LSTM(256, input_shape=(1, 12), return_sequences = True))\n",
        "lstm_model_one.add(Dropout(0.2))\n",
        "lstm_model_one.add(LSTM(256, return_sequences= True))\n",
        "lstm_model_one.add(Dropout(0.2))\n",
        "lstm_model_one.add(LSTM(256))\n",
        "lstm_model_one.add(Dense(1))\n"
      ],
      "execution_count": null,
      "outputs": []
    },
    {
      "cell_type": "code",
      "metadata": {
        "id": "dmGD0mLoI8yW"
      },
      "source": [
        "lstm_model_one.compile(loss='mse', optimizer='adam', metrics = ['mse', 'mape'])"
      ],
      "execution_count": null,
      "outputs": []
    },
    {
      "cell_type": "code",
      "metadata": {
        "colab": {
          "base_uri": "https://localhost:8080/"
        },
        "id": "XWFSjUCgrzrv",
        "outputId": "c21c977f-2570-411e-8b65-3acd50c883e8"
      },
      "source": [
        "lstm_history = lstm_model_one.fit(train_norm_X, train_y, epochs = 100, batch_size = 32, validation_data= (validation_norm_X, validation_y))"
      ],
      "execution_count": null,
      "outputs": [
        {
          "output_type": "stream",
          "text": [
            "Epoch 1/100\n",
            "22/22 [==============================] - 5s 60ms/step - loss: 34341.5065 - mse: 34341.5065 - mape: 99.9046 - val_loss: 32458.2676 - val_mse: 32458.2676 - val_mape: 98.6395\n",
            "Epoch 2/100\n",
            "22/22 [==============================] - 0s 8ms/step - loss: 32065.3972 - mse: 32065.3972 - mape: 96.2955 - val_loss: 26512.6855 - val_mse: 26512.6855 - val_mape: 87.1040\n",
            "Epoch 3/100\n",
            "22/22 [==============================] - 0s 10ms/step - loss: 25383.0641 - mse: 25383.0641 - mape: 85.0687 - val_loss: 24150.5371 - val_mse: 24150.5371 - val_mape: 80.7465\n",
            "Epoch 4/100\n",
            "22/22 [==============================] - 0s 8ms/step - loss: 25471.5736 - mse: 25471.5736 - mape: 80.1798 - val_loss: 22549.4316 - val_mse: 22549.4316 - val_mape: 76.8675\n",
            "Epoch 5/100\n",
            "22/22 [==============================] - 0s 8ms/step - loss: 23431.8689 - mse: 23431.8689 - mape: 76.5335 - val_loss: 21181.5254 - val_mse: 21181.5254 - val_mape: 73.4920\n",
            "Epoch 6/100\n",
            "22/22 [==============================] - 0s 8ms/step - loss: 21974.1320 - mse: 21974.1320 - mape: 73.3192 - val_loss: 19947.5859 - val_mse: 19947.5859 - val_mape: 70.3416\n",
            "Epoch 7/100\n",
            "22/22 [==============================] - 0s 8ms/step - loss: 20021.0239 - mse: 20021.0239 - mape: 69.8507 - val_loss: 18816.1621 - val_mse: 18816.1621 - val_mape: 67.3484\n",
            "Epoch 8/100\n",
            "22/22 [==============================] - 0s 8ms/step - loss: 18962.0451 - mse: 18962.0451 - mape: 67.1095 - val_loss: 17761.9258 - val_mse: 17761.9258 - val_mape: 64.4586\n",
            "Epoch 9/100\n",
            "22/22 [==============================] - 0s 8ms/step - loss: 19527.5685 - mse: 19527.5685 - mape: 65.3382 - val_loss: 16773.8535 - val_mse: 16773.8535 - val_mape: 61.6500\n",
            "Epoch 10/100\n",
            "22/22 [==============================] - 0s 8ms/step - loss: 17223.6605 - mse: 17223.6605 - mape: 61.8163 - val_loss: 15869.4229 - val_mse: 15869.4229 - val_mape: 58.9830\n",
            "Epoch 11/100\n",
            "22/22 [==============================] - 0s 9ms/step - loss: 15893.9903 - mse: 15893.9903 - mape: 58.9547 - val_loss: 15020.0684 - val_mse: 15020.0684 - val_mape: 56.3858\n",
            "Epoch 12/100\n",
            "22/22 [==============================] - 0s 8ms/step - loss: 17057.0718 - mse: 17057.0718 - mape: 57.0750 - val_loss: 14206.5586 - val_mse: 14206.5586 - val_mape: 53.8048\n",
            "Epoch 13/100\n",
            "22/22 [==============================] - 0s 8ms/step - loss: 14710.8001 - mse: 14710.8001 - mape: 54.3380 - val_loss: 13454.3506 - val_mse: 13454.3506 - val_mape: 51.3261\n",
            "Epoch 14/100\n",
            "22/22 [==============================] - 0s 9ms/step - loss: 14827.9796 - mse: 14827.9796 - mape: 52.5989 - val_loss: 12749.8584 - val_mse: 12749.8584 - val_mape: 48.9147\n",
            "Epoch 15/100\n",
            "22/22 [==============================] - 0s 8ms/step - loss: 12852.7100 - mse: 12852.7100 - mape: 49.4822 - val_loss: 12085.9463 - val_mse: 12085.9463 - val_mape: 46.5528\n",
            "Epoch 16/100\n",
            "22/22 [==============================] - 0s 8ms/step - loss: 12633.2511 - mse: 12633.2511 - mape: 47.7088 - val_loss: 11467.9121 - val_mse: 11467.9121 - val_mape: 44.2666\n",
            "Epoch 17/100\n",
            "22/22 [==============================] - 0s 8ms/step - loss: 11451.7182 - mse: 11451.7182 - mape: 44.6857 - val_loss: 10889.3584 - val_mse: 10889.3584 - val_mape: 42.0401\n",
            "Epoch 18/100\n",
            "22/22 [==============================] - 0s 8ms/step - loss: 11234.2471 - mse: 11234.2471 - mape: 42.3191 - val_loss: 10341.7119 - val_mse: 10341.7119 - val_mape: 39.8458\n",
            "Epoch 19/100\n",
            "22/22 [==============================] - 0s 9ms/step - loss: 10379.7070 - mse: 10379.7070 - mape: 40.0698 - val_loss: 9829.9385 - val_mse: 9829.9385 - val_mape: 37.7722\n",
            "Epoch 20/100\n",
            "22/22 [==============================] - 0s 8ms/step - loss: 10292.7385 - mse: 10292.7385 - mape: 38.4497 - val_loss: 9348.3828 - val_mse: 9348.3828 - val_mape: 35.9427\n",
            "Epoch 21/100\n",
            "22/22 [==============================] - 0s 8ms/step - loss: 9368.6207 - mse: 9368.6207 - mape: 36.4065 - val_loss: 8904.6494 - val_mse: 8904.6494 - val_mape: 34.3484\n",
            "Epoch 22/100\n",
            "22/22 [==============================] - 0s 8ms/step - loss: 9882.3061 - mse: 9882.3061 - mape: 36.7566 - val_loss: 8482.2188 - val_mse: 8482.2188 - val_mape: 32.8385\n",
            "Epoch 23/100\n",
            "22/22 [==============================] - 0s 9ms/step - loss: 8229.1805 - mse: 8229.1805 - mape: 33.5181 - val_loss: 8107.9917 - val_mse: 8107.9917 - val_mape: 31.5385\n",
            "Epoch 24/100\n",
            "22/22 [==============================] - 0s 8ms/step - loss: 8302.7175 - mse: 8302.7175 - mape: 32.3372 - val_loss: 7746.0610 - val_mse: 7746.0610 - val_mape: 30.4082\n",
            "Epoch 25/100\n",
            "22/22 [==============================] - 0s 8ms/step - loss: 7250.8996 - mse: 7250.8996 - mape: 30.9481 - val_loss: 7408.2349 - val_mse: 7408.2349 - val_mape: 29.6416\n",
            "Epoch 26/100\n",
            "22/22 [==============================] - 0s 8ms/step - loss: 7799.7539 - mse: 7799.7539 - mape: 30.7002 - val_loss: 7094.0435 - val_mse: 7094.0435 - val_mape: 29.1133\n",
            "Epoch 27/100\n",
            "22/22 [==============================] - 0s 9ms/step - loss: 7455.9309 - mse: 7455.9309 - mape: 29.5479 - val_loss: 6808.2188 - val_mse: 6808.2188 - val_mape: 28.7671\n",
            "Epoch 28/100\n",
            "22/22 [==============================] - 0s 8ms/step - loss: 6691.3603 - mse: 6691.3603 - mape: 29.0934 - val_loss: 6539.1606 - val_mse: 6539.1606 - val_mape: 28.5034\n",
            "Epoch 29/100\n",
            "22/22 [==============================] - 0s 8ms/step - loss: 6568.0608 - mse: 6568.0608 - mape: 28.6478 - val_loss: 6295.2358 - val_mse: 6295.2358 - val_mape: 28.3216\n",
            "Epoch 30/100\n",
            "22/22 [==============================] - 0s 8ms/step - loss: 6825.3899 - mse: 6825.3899 - mape: 28.7474 - val_loss: 6063.2949 - val_mse: 6063.2949 - val_mape: 28.1533\n",
            "Epoch 31/100\n",
            "22/22 [==============================] - 0s 8ms/step - loss: 6009.3316 - mse: 6009.3316 - mape: 27.9556 - val_loss: 5854.8989 - val_mse: 5854.8989 - val_mape: 27.9878\n",
            "Epoch 32/100\n",
            "22/22 [==============================] - 0s 8ms/step - loss: 6349.8180 - mse: 6349.8180 - mape: 29.1381 - val_loss: 5659.8545 - val_mse: 5659.8545 - val_mape: 27.8151\n",
            "Epoch 33/100\n",
            "22/22 [==============================] - 0s 8ms/step - loss: 5921.8899 - mse: 5921.8899 - mape: 28.3609 - val_loss: 5480.7466 - val_mse: 5480.7466 - val_mape: 27.6251\n",
            "Epoch 34/100\n",
            "22/22 [==============================] - 0s 9ms/step - loss: 5614.4392 - mse: 5614.4392 - mape: 27.5956 - val_loss: 5311.6885 - val_mse: 5311.6885 - val_mape: 27.3817\n",
            "Epoch 35/100\n",
            "22/22 [==============================] - 0s 9ms/step - loss: 5515.0363 - mse: 5515.0363 - mape: 27.7523 - val_loss: 5139.1772 - val_mse: 5139.1772 - val_mape: 26.8645\n",
            "Epoch 36/100\n",
            "22/22 [==============================] - 0s 8ms/step - loss: 5300.1187 - mse: 5300.1187 - mape: 26.7359 - val_loss: 4866.3208 - val_mse: 4866.3208 - val_mape: 24.1459\n",
            "Epoch 37/100\n",
            "22/22 [==============================] - 0s 8ms/step - loss: 5238.7198 - mse: 5238.7198 - mape: 24.1239 - val_loss: 4603.6108 - val_mse: 4603.6108 - val_mape: 20.1606\n",
            "Epoch 38/100\n",
            "22/22 [==============================] - 0s 8ms/step - loss: 4637.2897 - mse: 4637.2897 - mape: 21.2972 - val_loss: 4405.8613 - val_mse: 4405.8613 - val_mape: 19.4778\n",
            "Epoch 39/100\n",
            "22/22 [==============================] - 0s 8ms/step - loss: 4404.5854 - mse: 4404.5854 - mape: 20.7240 - val_loss: 4234.2935 - val_mse: 4234.2935 - val_mape: 18.9878\n",
            "Epoch 40/100\n",
            "22/22 [==============================] - 0s 8ms/step - loss: 4140.0243 - mse: 4140.0243 - mape: 18.5433 - val_loss: 4069.5022 - val_mse: 4069.5022 - val_mape: 18.3103\n",
            "Epoch 41/100\n",
            "22/22 [==============================] - 0s 8ms/step - loss: 4557.8554 - mse: 4557.8554 - mape: 19.5780 - val_loss: 3911.7776 - val_mse: 3911.7776 - val_mape: 17.6857\n",
            "Epoch 42/100\n",
            "22/22 [==============================] - 0s 8ms/step - loss: 3642.0729 - mse: 3642.0729 - mape: 17.5063 - val_loss: 3768.3967 - val_mse: 3768.3967 - val_mape: 17.2004\n",
            "Epoch 43/100\n",
            "22/22 [==============================] - 0s 8ms/step - loss: 3524.2996 - mse: 3524.2996 - mape: 16.9558 - val_loss: 3628.0798 - val_mse: 3628.0798 - val_mape: 16.4815\n",
            "Epoch 44/100\n",
            "22/22 [==============================] - 0s 10ms/step - loss: 3848.5155 - mse: 3848.5155 - mape: 17.0499 - val_loss: 3492.8357 - val_mse: 3492.8357 - val_mape: 16.0129\n",
            "Epoch 45/100\n",
            "22/22 [==============================] - 0s 8ms/step - loss: 3609.7214 - mse: 3609.7214 - mape: 16.7098 - val_loss: 3368.0710 - val_mse: 3368.0710 - val_mape: 15.4316\n",
            "Epoch 46/100\n",
            "22/22 [==============================] - 0s 9ms/step - loss: 3160.5382 - mse: 3160.5382 - mape: 15.1188 - val_loss: 3253.2561 - val_mse: 3253.2561 - val_mape: 14.8906\n",
            "Epoch 47/100\n",
            "22/22 [==============================] - 0s 8ms/step - loss: 3417.0771 - mse: 3417.0771 - mape: 15.5075 - val_loss: 3136.0706 - val_mse: 3136.0706 - val_mape: 14.4933\n",
            "Epoch 48/100\n",
            "22/22 [==============================] - 0s 9ms/step - loss: 3184.2815 - mse: 3184.2815 - mape: 15.0419 - val_loss: 3027.1250 - val_mse: 3027.1250 - val_mape: 14.0974\n",
            "Epoch 49/100\n",
            "22/22 [==============================] - 0s 10ms/step - loss: 3073.7369 - mse: 3073.7369 - mape: 14.3428 - val_loss: 2923.6631 - val_mse: 2923.6631 - val_mape: 13.6591\n",
            "Epoch 50/100\n",
            "22/22 [==============================] - 0s 8ms/step - loss: 2998.8084 - mse: 2998.8084 - mape: 13.7528 - val_loss: 2824.9377 - val_mse: 2824.9377 - val_mape: 13.2246\n",
            "Epoch 51/100\n",
            "22/22 [==============================] - 0s 9ms/step - loss: 2823.9007 - mse: 2823.9007 - mape: 13.3086 - val_loss: 2732.1992 - val_mse: 2732.1992 - val_mape: 12.8843\n",
            "Epoch 52/100\n",
            "22/22 [==============================] - 0s 8ms/step - loss: 3106.1038 - mse: 3106.1038 - mape: 13.6646 - val_loss: 2647.8823 - val_mse: 2647.8823 - val_mape: 12.4522\n",
            "Epoch 53/100\n",
            "22/22 [==============================] - 0s 9ms/step - loss: 2675.9706 - mse: 2675.9706 - mape: 12.9428 - val_loss: 2560.8174 - val_mse: 2560.8174 - val_mape: 12.0496\n",
            "Epoch 54/100\n",
            "22/22 [==============================] - 0s 8ms/step - loss: 2675.8751 - mse: 2675.8751 - mape: 12.6119 - val_loss: 2480.5286 - val_mse: 2480.5286 - val_mape: 11.7359\n",
            "Epoch 55/100\n",
            "22/22 [==============================] - 0s 9ms/step - loss: 2726.3518 - mse: 2726.3518 - mape: 12.8149 - val_loss: 2401.1775 - val_mse: 2401.1775 - val_mape: 11.5137\n",
            "Epoch 56/100\n",
            "22/22 [==============================] - 0s 9ms/step - loss: 2353.3029 - mse: 2353.3029 - mape: 11.4182 - val_loss: 2328.6423 - val_mse: 2328.6423 - val_mape: 11.2336\n",
            "Epoch 57/100\n",
            "22/22 [==============================] - 0s 8ms/step - loss: 2351.8201 - mse: 2351.8201 - mape: 11.1206 - val_loss: 2257.4390 - val_mse: 2257.4390 - val_mape: 10.8026\n",
            "Epoch 58/100\n",
            "22/22 [==============================] - 0s 8ms/step - loss: 2323.7603 - mse: 2323.7603 - mape: 11.3849 - val_loss: 2187.4885 - val_mse: 2187.4885 - val_mape: 10.5832\n",
            "Epoch 59/100\n",
            "22/22 [==============================] - 0s 8ms/step - loss: 2238.2559 - mse: 2238.2559 - mape: 10.9013 - val_loss: 2122.6445 - val_mse: 2122.6445 - val_mape: 10.2716\n",
            "Epoch 60/100\n",
            "22/22 [==============================] - 0s 8ms/step - loss: 2351.8461 - mse: 2351.8461 - mape: 10.7543 - val_loss: 2059.2231 - val_mse: 2059.2231 - val_mape: 10.0374\n",
            "Epoch 61/100\n",
            "22/22 [==============================] - 0s 9ms/step - loss: 1982.5939 - mse: 1982.5939 - mape: 9.7163 - val_loss: 1999.4078 - val_mse: 1999.4078 - val_mape: 9.8368\n",
            "Epoch 62/100\n",
            "22/22 [==============================] - 0s 8ms/step - loss: 2187.4117 - mse: 2187.4117 - mape: 10.1717 - val_loss: 1939.4380 - val_mse: 1939.4380 - val_mape: 9.4976\n",
            "Epoch 63/100\n",
            "22/22 [==============================] - 0s 8ms/step - loss: 1789.0807 - mse: 1789.0807 - mape: 9.4786 - val_loss: 1885.8810 - val_mse: 1885.8810 - val_mape: 9.4688\n",
            "Epoch 64/100\n",
            "22/22 [==============================] - 0s 8ms/step - loss: 1959.9947 - mse: 1959.9947 - mape: 9.4427 - val_loss: 1829.5833 - val_mse: 1829.5833 - val_mape: 9.1016\n",
            "Epoch 65/100\n",
            "22/22 [==============================] - 0s 8ms/step - loss: 1963.9595 - mse: 1963.9595 - mape: 9.5968 - val_loss: 1775.9595 - val_mse: 1775.9595 - val_mape: 8.7572\n",
            "Epoch 66/100\n",
            "22/22 [==============================] - 0s 8ms/step - loss: 1726.0643 - mse: 1726.0643 - mape: 9.0283 - val_loss: 1729.3304 - val_mse: 1729.3304 - val_mape: 8.7938\n",
            "Epoch 67/100\n",
            "22/22 [==============================] - 0s 9ms/step - loss: 1711.5723 - mse: 1711.5723 - mape: 8.6376 - val_loss: 1680.0284 - val_mse: 1680.0284 - val_mape: 8.5324\n",
            "Epoch 68/100\n",
            "22/22 [==============================] - 0s 8ms/step - loss: 1594.7764 - mse: 1594.7764 - mape: 8.4760 - val_loss: 1630.3566 - val_mse: 1630.3566 - val_mape: 8.2153\n",
            "Epoch 69/100\n",
            "22/22 [==============================] - 0s 8ms/step - loss: 1652.6856 - mse: 1652.6856 - mape: 8.0356 - val_loss: 1584.5988 - val_mse: 1584.5988 - val_mape: 7.9300\n",
            "Epoch 70/100\n",
            "22/22 [==============================] - 0s 8ms/step - loss: 1780.3542 - mse: 1780.3542 - mape: 8.6770 - val_loss: 1543.0719 - val_mse: 1543.0719 - val_mape: 7.9303\n",
            "Epoch 71/100\n",
            "22/22 [==============================] - 0s 8ms/step - loss: 1674.7778 - mse: 1674.7778 - mape: 8.6784 - val_loss: 1500.2950 - val_mse: 1500.2950 - val_mape: 7.6769\n",
            "Epoch 72/100\n",
            "22/22 [==============================] - 0s 9ms/step - loss: 1646.6929 - mse: 1646.6929 - mape: 8.3709 - val_loss: 1456.7843 - val_mse: 1456.7843 - val_mape: 7.4223\n",
            "Epoch 73/100\n",
            "22/22 [==============================] - 0s 8ms/step - loss: 1429.7062 - mse: 1429.7062 - mape: 7.4929 - val_loss: 1416.2399 - val_mse: 1416.2399 - val_mape: 7.1809\n",
            "Epoch 74/100\n",
            "22/22 [==============================] - 0s 9ms/step - loss: 1572.6846 - mse: 1572.6846 - mape: 8.2979 - val_loss: 1375.5377 - val_mse: 1375.5377 - val_mape: 6.9815\n",
            "Epoch 75/100\n",
            "22/22 [==============================] - 0s 8ms/step - loss: 1257.7829 - mse: 1257.7829 - mape: 6.8954 - val_loss: 1340.0314 - val_mse: 1340.0314 - val_mape: 6.8263\n",
            "Epoch 76/100\n",
            "22/22 [==============================] - 0s 9ms/step - loss: 1601.7481 - mse: 1601.7481 - mape: 7.6252 - val_loss: 1303.9305 - val_mse: 1303.9305 - val_mape: 6.8705\n",
            "Epoch 77/100\n",
            "22/22 [==============================] - 0s 8ms/step - loss: 1358.7275 - mse: 1358.7275 - mape: 7.2653 - val_loss: 1272.4293 - val_mse: 1272.4293 - val_mape: 6.8049\n",
            "Epoch 78/100\n",
            "22/22 [==============================] - 0s 8ms/step - loss: 1210.8515 - mse: 1210.8515 - mape: 6.6202 - val_loss: 1233.7560 - val_mse: 1233.7560 - val_mape: 6.4751\n",
            "Epoch 79/100\n",
            "22/22 [==============================] - 0s 8ms/step - loss: 1118.3890 - mse: 1118.3890 - mape: 6.7783 - val_loss: 1201.8319 - val_mse: 1201.8319 - val_mape: 6.4236\n",
            "Epoch 80/100\n",
            "22/22 [==============================] - 0s 8ms/step - loss: 1220.1074 - mse: 1220.1074 - mape: 6.8059 - val_loss: 1168.4015 - val_mse: 1168.4015 - val_mape: 6.0783\n",
            "Epoch 81/100\n",
            "22/22 [==============================] - 0s 9ms/step - loss: 1220.1050 - mse: 1220.1050 - mape: 6.9437 - val_loss: 1135.6704 - val_mse: 1135.6704 - val_mape: 5.9824\n",
            "Epoch 82/100\n",
            "22/22 [==============================] - 0s 8ms/step - loss: 1042.4360 - mse: 1042.4360 - mape: 6.3306 - val_loss: 1106.6827 - val_mse: 1106.6827 - val_mape: 5.9318\n",
            "Epoch 83/100\n",
            "22/22 [==============================] - 0s 8ms/step - loss: 1003.1593 - mse: 1003.1593 - mape: 6.4301 - val_loss: 1077.3037 - val_mse: 1077.3037 - val_mape: 5.7294\n",
            "Epoch 84/100\n",
            "22/22 [==============================] - 0s 9ms/step - loss: 1031.5107 - mse: 1031.5107 - mape: 6.2963 - val_loss: 1047.9934 - val_mse: 1047.9934 - val_mape: 5.6904\n",
            "Epoch 85/100\n",
            "22/22 [==============================] - 0s 9ms/step - loss: 1136.5186 - mse: 1136.5186 - mape: 6.2254 - val_loss: 1020.1553 - val_mse: 1020.1553 - val_mape: 5.6047\n",
            "Epoch 86/100\n",
            "22/22 [==============================] - 0s 9ms/step - loss: 1082.1203 - mse: 1082.1203 - mape: 6.4315 - val_loss: 993.3156 - val_mse: 993.3156 - val_mape: 5.5678\n",
            "Epoch 87/100\n",
            "22/22 [==============================] - 0s 8ms/step - loss: 1031.9943 - mse: 1031.9943 - mape: 6.2123 - val_loss: 967.3206 - val_mse: 967.3206 - val_mape: 5.5436\n",
            "Epoch 88/100\n",
            "22/22 [==============================] - 0s 11ms/step - loss: 1017.0546 - mse: 1017.0546 - mape: 6.1090 - val_loss: 945.9539 - val_mse: 945.9539 - val_mape: 5.7212\n",
            "Epoch 89/100\n",
            "22/22 [==============================] - 0s 8ms/step - loss: 1134.0112 - mse: 1134.0112 - mape: 6.6858 - val_loss: 916.4868 - val_mse: 916.4868 - val_mape: 5.3951\n",
            "Epoch 90/100\n",
            "22/22 [==============================] - 0s 8ms/step - loss: 781.1567 - mse: 781.1567 - mape: 5.4346 - val_loss: 893.8403 - val_mse: 893.8403 - val_mape: 5.2205\n",
            "Epoch 91/100\n",
            "22/22 [==============================] - 0s 8ms/step - loss: 1053.3838 - mse: 1053.3838 - mape: 6.1768 - val_loss: 871.2219 - val_mse: 871.2219 - val_mape: 5.2516\n",
            "Epoch 92/100\n",
            "22/22 [==============================] - 0s 8ms/step - loss: 935.8019 - mse: 935.8019 - mape: 5.8905 - val_loss: 847.2357 - val_mse: 847.2357 - val_mape: 5.0866\n",
            "Epoch 93/100\n",
            "22/22 [==============================] - 0s 9ms/step - loss: 961.2623 - mse: 961.2623 - mape: 6.0113 - val_loss: 823.8785 - val_mse: 823.8785 - val_mape: 5.0337\n",
            "Epoch 94/100\n",
            "22/22 [==============================] - 0s 8ms/step - loss: 816.8058 - mse: 816.8058 - mape: 5.6889 - val_loss: 803.9214 - val_mse: 803.9214 - val_mape: 5.0086\n",
            "Epoch 95/100\n",
            "22/22 [==============================] - 0s 9ms/step - loss: 789.2375 - mse: 789.2375 - mape: 5.6089 - val_loss: 782.9951 - val_mse: 782.9951 - val_mape: 4.9161\n",
            "Epoch 96/100\n",
            "22/22 [==============================] - 0s 9ms/step - loss: 760.9727 - mse: 760.9727 - mape: 5.4169 - val_loss: 767.7194 - val_mse: 767.7194 - val_mape: 5.2966\n",
            "Epoch 97/100\n",
            "22/22 [==============================] - 0s 9ms/step - loss: 690.7228 - mse: 690.7228 - mape: 5.3958 - val_loss: 750.3167 - val_mse: 750.3167 - val_mape: 5.3029\n",
            "Epoch 98/100\n",
            "22/22 [==============================] - 0s 9ms/step - loss: 700.3424 - mse: 700.3424 - mape: 5.2423 - val_loss: 723.3776 - val_mse: 723.3776 - val_mape: 4.7737\n",
            "Epoch 99/100\n",
            "22/22 [==============================] - 0s 9ms/step - loss: 747.1090 - mse: 747.1090 - mape: 5.3246 - val_loss: 704.3123 - val_mse: 704.3123 - val_mape: 4.8448\n",
            "Epoch 100/100\n",
            "22/22 [==============================] - 0s 8ms/step - loss: 696.0957 - mse: 696.0957 - mape: 5.2988 - val_loss: 703.1951 - val_mse: 703.1951 - val_mape: 5.6582\n"
          ],
          "name": "stdout"
        }
      ]
    },
    {
      "cell_type": "code",
      "metadata": {
        "id": "xnINdlR1s-Mn"
      },
      "source": [
        "#GRU\n",
        "gru_model_one = Sequential()\n",
        "gru_model_one.add(GRU(256, input_shape=(1, 12), return_sequences = True))\n",
        "gru_model_one.add(Dropout(0.2))\n",
        "gru_model_one.add(GRU(256, return_sequences= True))\n",
        "gru_model_one.add(Dropout(0.2))\n",
        "gru_model_one.add(GRU(256))\n",
        "gru_model_one.add(Dropout(0.2))\n",
        "gru_model_one.add(Dense(1))"
      ],
      "execution_count": null,
      "outputs": []
    },
    {
      "cell_type": "code",
      "metadata": {
        "id": "T15FGbKiKMJV",
        "colab": {
          "base_uri": "https://localhost:8080/"
        },
        "outputId": "730197c9-21fa-4b07-bf4b-198be34b3150"
      },
      "source": [
        "gru_model_one.compile(loss='mse', optimizer='adam', metrics = ['mse', 'mape'])\n",
        "gru_history = gru_model_one.fit(train_norm_X, train_y, epochs = 100, batch_size = 32, validation_data= (validation_norm_X, validation_y))"
      ],
      "execution_count": null,
      "outputs": [
        {
          "output_type": "stream",
          "text": [
            "Epoch 1/100\n",
            "22/22 [==============================] - 6s 53ms/step - loss: 33922.1255 - mse: 33922.1255 - mape: 99.3100 - val_loss: 28380.8184 - val_mse: 28380.8184 - val_mape: 91.6705\n",
            "Epoch 2/100\n",
            "22/22 [==============================] - 0s 7ms/step - loss: 27600.5323 - mse: 27600.5323 - mape: 87.4265 - val_loss: 23718.1094 - val_mse: 23718.1094 - val_mape: 79.6645\n",
            "Epoch 3/100\n",
            "22/22 [==============================] - 0s 7ms/step - loss: 22817.7263 - mse: 22817.7263 - mape: 78.5706 - val_loss: 21754.6641 - val_mse: 21754.6641 - val_mape: 74.8549\n",
            "Epoch 4/100\n",
            "22/22 [==============================] - 0s 8ms/step - loss: 22945.0070 - mse: 22945.0070 - mape: 74.3377 - val_loss: 20070.2793 - val_mse: 20070.2793 - val_mape: 70.6108\n",
            "Epoch 5/100\n",
            "22/22 [==============================] - 0s 7ms/step - loss: 20851.8559 - mse: 20851.8559 - mape: 70.3432 - val_loss: 18590.0469 - val_mse: 18590.0469 - val_mape: 66.7003\n",
            "Epoch 6/100\n",
            "22/22 [==============================] - 0s 7ms/step - loss: 19270.6067 - mse: 19270.6067 - mape: 66.5209 - val_loss: 17246.9434 - val_mse: 17246.9434 - val_mape: 62.9779\n",
            "Epoch 7/100\n",
            "22/22 [==============================] - 0s 8ms/step - loss: 17281.9870 - mse: 17281.9870 - mape: 62.4069 - val_loss: 16021.7656 - val_mse: 16021.7656 - val_mape: 59.4149\n",
            "Epoch 8/100\n",
            "22/22 [==============================] - 0s 8ms/step - loss: 16087.2006 - mse: 16087.2006 - mape: 59.1183 - val_loss: 14890.8525 - val_mse: 14890.8525 - val_mape: 55.9626\n",
            "Epoch 9/100\n",
            "22/22 [==============================] - 0s 7ms/step - loss: 16507.5002 - mse: 16507.5002 - mape: 57.1759 - val_loss: 13844.7158 - val_mse: 13844.7158 - val_mape: 52.6068\n",
            "Epoch 10/100\n",
            "22/22 [==============================] - 0s 7ms/step - loss: 14161.4998 - mse: 14161.4998 - mape: 52.8635 - val_loss: 12903.4717 - val_mse: 12903.4717 - val_mape: 49.4325\n",
            "Epoch 11/100\n",
            "22/22 [==============================] - 0s 8ms/step - loss: 12871.1840 - mse: 12871.1840 - mape: 49.6108 - val_loss: 12035.6465 - val_mse: 12035.6465 - val_mape: 46.3550\n",
            "Epoch 12/100\n",
            "22/22 [==============================] - 0s 7ms/step - loss: 13892.4837 - mse: 13892.4837 - mape: 47.3683 - val_loss: 11219.1738 - val_mse: 11219.1738 - val_mape: 43.3056\n",
            "Epoch 13/100\n",
            "22/22 [==============================] - 0s 7ms/step - loss: 11575.9664 - mse: 11575.9664 - mape: 44.0319 - val_loss: 10481.8447 - val_mse: 10481.8447 - val_mape: 40.4016\n",
            "Epoch 14/100\n",
            "22/22 [==============================] - 0s 7ms/step - loss: 11629.4477 - mse: 11629.4477 - mape: 42.0547 - val_loss: 9807.5078 - val_mse: 9807.5078 - val_mape: 37.6728\n",
            "Epoch 15/100\n",
            "22/22 [==============================] - 0s 8ms/step - loss: 9853.8461 - mse: 9853.8461 - mape: 38.5800 - val_loss: 9187.7803 - val_mse: 9187.7803 - val_mape: 35.3609\n",
            "Epoch 16/100\n",
            "22/22 [==============================] - 0s 7ms/step - loss: 9629.3647 - mse: 9629.3647 - mape: 37.0739 - val_loss: 8627.2021 - val_mse: 8627.2021 - val_mape: 33.3627\n",
            "Epoch 17/100\n",
            "22/22 [==============================] - 0s 7ms/step - loss: 8557.0114 - mse: 8557.0114 - mape: 34.1730 - val_loss: 8116.3467 - val_mse: 8116.3467 - val_mape: 31.5752\n",
            "Epoch 18/100\n",
            "22/22 [==============================] - 0s 8ms/step - loss: 8438.0621 - mse: 8438.0621 - mape: 32.5016 - val_loss: 7644.9780 - val_mse: 7644.9780 - val_mape: 30.1400\n",
            "Epoch 19/100\n",
            "22/22 [==============================] - 0s 7ms/step - loss: 7660.3431 - mse: 7660.3431 - mape: 31.2820 - val_loss: 7218.7017 - val_mse: 7218.7017 - val_mape: 29.3347\n",
            "Epoch 20/100\n",
            "22/22 [==============================] - 0s 7ms/step - loss: 7545.2202 - mse: 7545.2202 - mape: 30.5202 - val_loss: 6829.7573 - val_mse: 6829.7573 - val_mape: 28.8103\n",
            "Epoch 21/100\n",
            "22/22 [==============================] - 0s 7ms/step - loss: 6845.4201 - mse: 6845.4201 - mape: 29.5207 - val_loss: 6484.4873 - val_mse: 6484.4873 - val_mape: 28.4858\n",
            "Epoch 22/100\n",
            "22/22 [==============================] - 0s 7ms/step - loss: 7224.7542 - mse: 7224.7542 - mape: 30.5618 - val_loss: 6165.1216 - val_mse: 6165.1216 - val_mape: 28.2646\n",
            "Epoch 23/100\n",
            "22/22 [==============================] - 0s 7ms/step - loss: 5910.4331 - mse: 5910.4331 - mape: 28.4320 - val_loss: 5898.0547 - val_mse: 5898.0547 - val_mape: 28.0720\n",
            "Epoch 24/100\n",
            "22/22 [==============================] - 0s 7ms/step - loss: 6005.5100 - mse: 6005.5100 - mape: 28.2930 - val_loss: 5644.3701 - val_mse: 5644.3701 - val_mape: 27.8747\n",
            "Epoch 25/100\n",
            "22/22 [==============================] - 0s 7ms/step - loss: 5214.6461 - mse: 5214.6461 - mape: 27.7594 - val_loss: 5416.5566 - val_mse: 5416.5566 - val_mape: 27.6804\n",
            "Epoch 26/100\n",
            "22/22 [==============================] - 0s 7ms/step - loss: 5722.0790 - mse: 5722.0790 - mape: 28.7317 - val_loss: 5213.5210 - val_mse: 5213.5210 - val_mape: 27.4855\n",
            "Epoch 27/100\n",
            "22/22 [==============================] - 0s 8ms/step - loss: 5599.3515 - mse: 5599.3515 - mape: 28.1359 - val_loss: 5035.5254 - val_mse: 5035.5254 - val_mape: 27.3206\n",
            "Epoch 28/100\n",
            "22/22 [==============================] - 0s 8ms/step - loss: 4926.0572 - mse: 4926.0572 - mape: 27.6076 - val_loss: 4866.8257 - val_mse: 4866.8257 - val_mape: 27.1229\n",
            "Epoch 29/100\n",
            "22/22 [==============================] - 0s 7ms/step - loss: 4929.7481 - mse: 4929.7481 - mape: 27.1648 - val_loss: 4667.4956 - val_mse: 4667.4956 - val_mape: 26.2018\n",
            "Epoch 30/100\n",
            "22/22 [==============================] - 0s 8ms/step - loss: 5054.6848 - mse: 5054.6848 - mape: 25.8016 - val_loss: 4219.7007 - val_mse: 4219.7007 - val_mape: 18.4562\n",
            "Epoch 31/100\n",
            "22/22 [==============================] - 0s 7ms/step - loss: 4215.6997 - mse: 4215.6997 - mape: 18.7889 - val_loss: 3999.1914 - val_mse: 3999.1914 - val_mape: 18.5358\n",
            "Epoch 32/100\n",
            "22/22 [==============================] - 0s 7ms/step - loss: 4341.7805 - mse: 4341.7804 - mape: 19.7184 - val_loss: 3798.1716 - val_mse: 3798.1716 - val_mape: 17.6120\n",
            "Epoch 33/100\n",
            "22/22 [==============================] - 0s 7ms/step - loss: 3959.0548 - mse: 3959.0548 - mape: 18.4835 - val_loss: 3618.8945 - val_mse: 3618.8945 - val_mape: 16.7858\n",
            "Epoch 34/100\n",
            "22/22 [==============================] - 0s 7ms/step - loss: 3742.0612 - mse: 3742.0612 - mape: 17.2474 - val_loss: 3452.8362 - val_mse: 3452.8362 - val_mape: 16.0902\n",
            "Epoch 35/100\n",
            "22/22 [==============================] - 0s 7ms/step - loss: 3600.9629 - mse: 3600.9629 - mape: 16.7866 - val_loss: 3291.0745 - val_mse: 3291.0745 - val_mape: 15.5157\n",
            "Epoch 36/100\n",
            "22/22 [==============================] - 0s 7ms/step - loss: 3387.0738 - mse: 3387.0738 - mape: 15.9490 - val_loss: 3142.9578 - val_mse: 3142.9578 - val_mape: 14.7590\n",
            "Epoch 37/100\n",
            "22/22 [==============================] - 0s 8ms/step - loss: 3436.7165 - mse: 3436.7165 - mape: 15.8978 - val_loss: 3006.6648 - val_mse: 3006.6648 - val_mape: 14.1795\n",
            "Epoch 38/100\n",
            "22/22 [==============================] - 0s 7ms/step - loss: 2977.4157 - mse: 2977.4157 - mape: 14.9583 - val_loss: 2875.4204 - val_mse: 2875.4204 - val_mape: 13.6950\n",
            "Epoch 39/100\n",
            "22/22 [==============================] - 0s 8ms/step - loss: 2837.4285 - mse: 2837.4285 - mape: 14.5445 - val_loss: 2753.5920 - val_mse: 2753.5920 - val_mape: 13.1865\n",
            "Epoch 40/100\n",
            "22/22 [==============================] - 0s 7ms/step - loss: 2727.1574 - mse: 2727.1574 - mape: 13.3940 - val_loss: 2641.8513 - val_mse: 2641.8513 - val_mape: 12.6578\n",
            "Epoch 41/100\n",
            "22/22 [==============================] - 0s 7ms/step - loss: 2972.5775 - mse: 2972.5775 - mape: 13.9595 - val_loss: 2534.3474 - val_mse: 2534.3474 - val_mape: 12.5094\n",
            "Epoch 42/100\n",
            "22/22 [==============================] - 0s 7ms/step - loss: 2347.9303 - mse: 2347.9303 - mape: 12.7076 - val_loss: 2434.7695 - val_mse: 2434.7695 - val_mape: 11.9610\n",
            "Epoch 43/100\n",
            "22/22 [==============================] - 0s 8ms/step - loss: 2259.8722 - mse: 2259.8722 - mape: 12.1524 - val_loss: 2336.1418 - val_mse: 2336.1418 - val_mape: 11.4141\n",
            "Epoch 44/100\n",
            "22/22 [==============================] - 0s 7ms/step - loss: 2503.1785 - mse: 2503.1785 - mape: 12.1730 - val_loss: 2240.4397 - val_mse: 2240.4397 - val_mape: 10.9915\n",
            "Epoch 45/100\n",
            "22/22 [==============================] - 0s 8ms/step - loss: 2329.1210 - mse: 2329.1210 - mape: 11.8787 - val_loss: 2147.6553 - val_mse: 2147.6553 - val_mape: 10.0431\n",
            "Epoch 46/100\n",
            "22/22 [==============================] - 0s 7ms/step - loss: 2058.7061 - mse: 2058.7061 - mape: 10.9491 - val_loss: 2069.0876 - val_mse: 2069.0876 - val_mape: 10.1087\n",
            "Epoch 47/100\n",
            "22/22 [==============================] - 0s 8ms/step - loss: 2251.8076 - mse: 2251.8076 - mape: 11.1796 - val_loss: 1985.2203 - val_mse: 1985.2203 - val_mape: 9.5059\n",
            "Epoch 48/100\n",
            "22/22 [==============================] - 0s 8ms/step - loss: 2019.3589 - mse: 2019.3589 - mape: 10.6333 - val_loss: 1911.8390 - val_mse: 1911.8390 - val_mape: 9.0401\n",
            "Epoch 49/100\n",
            "22/22 [==============================] - 0s 8ms/step - loss: 1929.1562 - mse: 1929.1562 - mape: 10.2421 - val_loss: 1843.4296 - val_mse: 1843.4296 - val_mape: 8.8892\n",
            "Epoch 50/100\n",
            "22/22 [==============================] - 0s 7ms/step - loss: 1925.1100 - mse: 1925.1100 - mape: 9.9285 - val_loss: 1770.8219 - val_mse: 1770.8219 - val_mape: 8.2406\n",
            "Epoch 51/100\n",
            "22/22 [==============================] - 0s 8ms/step - loss: 1803.5047 - mse: 1803.5047 - mape: 9.3107 - val_loss: 1708.7239 - val_mse: 1708.7239 - val_mape: 7.9486\n",
            "Epoch 52/100\n",
            "22/22 [==============================] - 0s 8ms/step - loss: 2022.6786 - mse: 2022.6786 - mape: 10.1297 - val_loss: 1652.4550 - val_mse: 1652.4550 - val_mape: 8.0950\n",
            "Epoch 53/100\n",
            "22/22 [==============================] - 0s 8ms/step - loss: 1685.1945 - mse: 1685.1945 - mape: 9.5470 - val_loss: 1593.7681 - val_mse: 1593.7681 - val_mape: 7.8488\n",
            "Epoch 54/100\n",
            "22/22 [==============================] - 0s 7ms/step - loss: 1727.6078 - mse: 1727.6078 - mape: 9.3300 - val_loss: 1545.7238 - val_mse: 1545.7238 - val_mape: 8.3485\n",
            "Epoch 55/100\n",
            "22/22 [==============================] - 0s 9ms/step - loss: 1762.3687 - mse: 1762.3687 - mape: 10.0194 - val_loss: 1486.1191 - val_mse: 1486.1191 - val_mape: 7.2940\n",
            "Epoch 56/100\n",
            "22/22 [==============================] - 0s 7ms/step - loss: 1495.9225 - mse: 1495.9225 - mape: 8.6847 - val_loss: 1438.0306 - val_mse: 1438.0306 - val_mape: 7.1401\n",
            "Epoch 57/100\n",
            "22/22 [==============================] - 0s 8ms/step - loss: 1488.9767 - mse: 1488.9767 - mape: 8.9561 - val_loss: 1388.2980 - val_mse: 1388.2980 - val_mape: 6.9454\n",
            "Epoch 58/100\n",
            "22/22 [==============================] - 0s 7ms/step - loss: 1453.5150 - mse: 1453.5150 - mape: 8.9981 - val_loss: 1340.1368 - val_mse: 1340.1368 - val_mape: 6.8441\n",
            "Epoch 59/100\n",
            "22/22 [==============================] - 0s 7ms/step - loss: 1411.0028 - mse: 1411.0028 - mape: 8.6758 - val_loss: 1301.4469 - val_mse: 1301.4469 - val_mape: 6.7490\n",
            "Epoch 60/100\n",
            "22/22 [==============================] - 0s 7ms/step - loss: 1520.9943 - mse: 1520.9943 - mape: 8.4632 - val_loss: 1252.9138 - val_mse: 1252.9138 - val_mape: 6.2536\n",
            "Epoch 61/100\n",
            "22/22 [==============================] - 0s 8ms/step - loss: 1260.6058 - mse: 1260.6058 - mape: 7.8510 - val_loss: 1214.6896 - val_mse: 1214.6896 - val_mape: 6.5051\n",
            "Epoch 62/100\n",
            "22/22 [==============================] - 0s 7ms/step - loss: 1400.4689 - mse: 1400.4689 - mape: 7.9196 - val_loss: 1170.9637 - val_mse: 1170.9637 - val_mape: 5.9002\n",
            "Epoch 63/100\n",
            "22/22 [==============================] - 0s 7ms/step - loss: 1122.7691 - mse: 1122.7691 - mape: 7.2773 - val_loss: 1137.7197 - val_mse: 1137.7197 - val_mape: 6.3129\n",
            "Epoch 64/100\n",
            "22/22 [==============================] - 0s 7ms/step - loss: 1255.8125 - mse: 1255.8125 - mape: 7.8482 - val_loss: 1098.8196 - val_mse: 1098.8196 - val_mape: 6.1766\n",
            "Epoch 65/100\n",
            "22/22 [==============================] - 0s 8ms/step - loss: 1218.9738 - mse: 1218.9738 - mape: 7.7610 - val_loss: 1061.3904 - val_mse: 1061.3904 - val_mape: 5.9399\n",
            "Epoch 66/100\n",
            "22/22 [==============================] - 0s 8ms/step - loss: 1093.6675 - mse: 1093.6675 - mape: 7.6809 - val_loss: 1032.7458 - val_mse: 1032.7458 - val_mape: 5.9051\n",
            "Epoch 67/100\n",
            "22/22 [==============================] - 0s 8ms/step - loss: 1052.4707 - mse: 1052.4707 - mape: 7.4263 - val_loss: 1008.8704 - val_mse: 1008.8704 - val_mape: 6.4522\n",
            "Epoch 68/100\n",
            "22/22 [==============================] - 0s 7ms/step - loss: 988.1399 - mse: 988.1399 - mape: 7.4581 - val_loss: 994.1877 - val_mse: 994.1877 - val_mape: 7.4510\n",
            "Epoch 69/100\n",
            "22/22 [==============================] - 0s 8ms/step - loss: 1077.9342 - mse: 1077.9342 - mape: 7.4308 - val_loss: 931.7386 - val_mse: 931.7386 - val_mape: 5.2939\n",
            "Epoch 70/100\n",
            "22/22 [==============================] - 0s 7ms/step - loss: 1120.9823 - mse: 1120.9823 - mape: 7.6312 - val_loss: 907.0352 - val_mse: 907.0352 - val_mape: 5.5167\n",
            "Epoch 71/100\n",
            "22/22 [==============================] - 0s 8ms/step - loss: 1041.6108 - mse: 1041.6108 - mape: 7.4908 - val_loss: 879.7776 - val_mse: 879.7776 - val_mape: 5.7828\n",
            "Epoch 72/100\n",
            "22/22 [==============================] - 0s 7ms/step - loss: 996.8820 - mse: 996.8820 - mape: 6.9927 - val_loss: 845.1927 - val_mse: 845.1927 - val_mape: 5.1312\n",
            "Epoch 73/100\n",
            "22/22 [==============================] - 0s 7ms/step - loss: 860.1257 - mse: 860.1257 - mape: 6.7150 - val_loss: 818.9861 - val_mse: 818.9861 - val_mape: 5.0779\n",
            "Epoch 74/100\n",
            "22/22 [==============================] - 0s 7ms/step - loss: 945.0406 - mse: 945.0406 - mape: 7.2539 - val_loss: 793.7133 - val_mse: 793.7133 - val_mape: 5.1041\n",
            "Epoch 75/100\n",
            "22/22 [==============================] - 0s 7ms/step - loss: 747.2591 - mse: 747.2591 - mape: 6.2758 - val_loss: 768.3424 - val_mse: 768.3424 - val_mape: 4.9384\n",
            "Epoch 76/100\n",
            "22/22 [==============================] - 0s 7ms/step - loss: 950.7830 - mse: 950.7830 - mape: 6.7405 - val_loss: 741.6644 - val_mse: 741.6644 - val_mape: 4.7192\n",
            "Epoch 77/100\n",
            "22/22 [==============================] - 0s 7ms/step - loss: 828.8658 - mse: 828.8658 - mape: 6.5600 - val_loss: 729.1039 - val_mse: 729.1039 - val_mape: 5.4589\n",
            "Epoch 78/100\n",
            "22/22 [==============================] - 0s 8ms/step - loss: 754.2776 - mse: 754.2776 - mape: 6.2211 - val_loss: 708.8303 - val_mse: 708.8303 - val_mape: 5.2513\n",
            "Epoch 79/100\n",
            "22/22 [==============================] - 0s 7ms/step - loss: 633.8652 - mse: 633.8652 - mape: 6.2601 - val_loss: 675.1232 - val_mse: 675.1232 - val_mape: 4.5074\n",
            "Epoch 80/100\n",
            "22/22 [==============================] - 0s 7ms/step - loss: 737.9602 - mse: 737.9602 - mape: 5.9519 - val_loss: 654.6660 - val_mse: 654.6660 - val_mape: 4.6061\n",
            "Epoch 81/100\n",
            "22/22 [==============================] - 0s 8ms/step - loss: 698.3233 - mse: 698.3233 - mape: 6.2589 - val_loss: 630.8108 - val_mse: 630.8108 - val_mape: 4.2663\n",
            "Epoch 82/100\n",
            "22/22 [==============================] - 0s 8ms/step - loss: 624.4584 - mse: 624.4584 - mape: 5.8406 - val_loss: 611.3514 - val_mse: 611.3514 - val_mape: 4.1988\n",
            "Epoch 83/100\n",
            "22/22 [==============================] - 0s 8ms/step - loss: 578.5182 - mse: 578.5182 - mape: 5.7034 - val_loss: 592.3194 - val_mse: 592.3194 - val_mape: 4.3056\n",
            "Epoch 84/100\n",
            "22/22 [==============================] - 0s 7ms/step - loss: 596.4381 - mse: 596.4381 - mape: 5.7774 - val_loss: 573.6776 - val_mse: 573.6776 - val_mape: 4.2371\n",
            "Epoch 85/100\n",
            "22/22 [==============================] - 0s 7ms/step - loss: 700.0409 - mse: 700.0409 - mape: 5.9694 - val_loss: 555.2247 - val_mse: 555.2247 - val_mape: 4.0675\n",
            "Epoch 86/100\n",
            "22/22 [==============================] - 0s 8ms/step - loss: 631.6284 - mse: 631.6284 - mape: 5.9307 - val_loss: 537.7863 - val_mse: 537.7863 - val_mape: 4.0732\n",
            "Epoch 87/100\n",
            "22/22 [==============================] - 0s 8ms/step - loss: 591.5096 - mse: 591.5096 - mape: 5.6201 - val_loss: 517.6011 - val_mse: 517.6011 - val_mape: 3.8812\n",
            "Epoch 88/100\n",
            "22/22 [==============================] - 0s 7ms/step - loss: 590.6458 - mse: 590.6458 - mape: 5.8594 - val_loss: 500.5626 - val_mse: 500.5626 - val_mape: 3.7234\n",
            "Epoch 89/100\n",
            "22/22 [==============================] - 0s 8ms/step - loss: 659.0549 - mse: 659.0549 - mape: 5.7310 - val_loss: 484.2196 - val_mse: 484.2196 - val_mape: 3.7120\n",
            "Epoch 90/100\n",
            "22/22 [==============================] - 0s 7ms/step - loss: 429.4377 - mse: 429.4377 - mape: 5.0012 - val_loss: 470.2735 - val_mse: 470.2735 - val_mape: 3.7105\n",
            "Epoch 91/100\n",
            "22/22 [==============================] - 0s 8ms/step - loss: 612.2945 - mse: 612.2945 - mape: 5.4955 - val_loss: 457.0050 - val_mse: 457.0050 - val_mape: 4.0616\n",
            "Epoch 92/100\n",
            "22/22 [==============================] - 0s 8ms/step - loss: 508.6797 - mse: 508.6797 - mape: 5.3210 - val_loss: 442.8217 - val_mse: 442.8217 - val_mape: 3.8361\n",
            "Epoch 93/100\n",
            "22/22 [==============================] - 0s 7ms/step - loss: 529.5665 - mse: 529.5665 - mape: 5.5526 - val_loss: 424.5962 - val_mse: 424.5962 - val_mape: 3.4570\n",
            "Epoch 94/100\n",
            "22/22 [==============================] - 0s 8ms/step - loss: 464.6505 - mse: 464.6505 - mape: 5.5073 - val_loss: 415.0891 - val_mse: 415.0891 - val_mape: 3.6899\n",
            "Epoch 95/100\n",
            "22/22 [==============================] - 0s 7ms/step - loss: 465.2928 - mse: 465.2928 - mape: 5.6731 - val_loss: 403.9689 - val_mse: 403.9689 - val_mape: 4.2886\n",
            "Epoch 96/100\n",
            "22/22 [==============================] - 0s 7ms/step - loss: 449.9615 - mse: 449.9615 - mape: 5.3455 - val_loss: 390.7087 - val_mse: 390.7087 - val_mape: 3.7118\n",
            "Epoch 97/100\n",
            "22/22 [==============================] - 0s 7ms/step - loss: 361.4750 - mse: 361.4750 - mape: 5.0610 - val_loss: 384.7184 - val_mse: 384.7184 - val_mape: 4.5247\n",
            "Epoch 98/100\n",
            "22/22 [==============================] - 0s 8ms/step - loss: 370.9628 - mse: 370.9628 - mape: 5.3224 - val_loss: 362.5656 - val_mse: 362.5656 - val_mape: 3.2166\n",
            "Epoch 99/100\n",
            "22/22 [==============================] - 0s 7ms/step - loss: 418.8789 - mse: 418.8789 - mape: 5.0426 - val_loss: 351.0853 - val_mse: 351.0853 - val_mape: 3.3509\n",
            "Epoch 100/100\n",
            "22/22 [==============================] - 0s 7ms/step - loss: 378.8701 - mse: 378.8701 - mape: 4.9592 - val_loss: 341.5320 - val_mse: 341.5320 - val_mape: 3.2472\n"
          ],
          "name": "stdout"
        }
      ]
    },
    {
      "cell_type": "code",
      "metadata": {
        "id": "xtqPpvCnuysl"
      },
      "source": [
        "#Bidirectional LSTM\n",
        "bidirectional_LSTM = Sequential()\n",
        "bidirectional_LSTM.add(Bidirectional(LSTM(256, input_shape=(1, 12), return_sequences = True)))\n",
        "bidirectional_LSTM.add(Dropout(0.2))\n",
        "bidirectional_LSTM.add(Bidirectional(LSTM(256, return_sequences= True)))\n",
        "bidirectional_LSTM.add(Dropout(0.2))\n",
        "bidirectional_LSTM.add(Bidirectional(LSTM(256)))\n",
        "bidirectional_LSTM.add(Dropout(0.2))\n",
        "bidirectional_LSTM.add(Dense(1))"
      ],
      "execution_count": null,
      "outputs": []
    },
    {
      "cell_type": "code",
      "metadata": {
        "colab": {
          "base_uri": "https://localhost:8080/"
        },
        "id": "6XHdGPFIIeXl",
        "outputId": "198bedaf-16b7-4814-bbde-6b225444dbda"
      },
      "source": [
        "bidirectional_LSTM.compile(loss='mse', optimizer='adam', metrics = ['mse', 'mape'])\n",
        "bidirectional_LSTM_history = bidirectional_LSTM.fit(train_norm_X, train_y, epochs = 100, batch_size = 32, validation_data= (validation_norm_X, validation_y))"
      ],
      "execution_count": null,
      "outputs": [
        {
          "output_type": "stream",
          "text": [
            "Epoch 1/100\n",
            "22/22 [==============================] - 13s 117ms/step - loss: 34075.8612 - mse: 34075.8612 - mape: 99.5576 - val_loss: 28379.3945 - val_mse: 28379.3945 - val_mape: 92.5237\n",
            "Epoch 2/100\n",
            "22/22 [==============================] - 0s 12ms/step - loss: 26747.8847 - mse: 26747.8847 - mape: 86.4427 - val_loss: 21452.8809 - val_mse: 21452.8809 - val_mape: 74.4140\n",
            "Epoch 3/100\n",
            "22/22 [==============================] - 0s 12ms/step - loss: 20324.6257 - mse: 20324.6257 - mape: 72.6018 - val_loss: 18665.4219 - val_mse: 18665.4219 - val_mape: 66.9607\n",
            "Epoch 4/100\n",
            "22/22 [==============================] - 0s 12ms/step - loss: 19604.9821 - mse: 19604.9821 - mape: 66.1865 - val_loss: 16402.9258 - val_mse: 16402.9258 - val_mape: 60.5848\n",
            "Epoch 5/100\n",
            "22/22 [==============================] - 0s 12ms/step - loss: 16990.6365 - mse: 16990.6365 - mape: 60.1240 - val_loss: 14522.7754 - val_mse: 14522.7754 - val_mape: 54.8437\n",
            "Epoch 6/100\n",
            "22/22 [==============================] - 0s 12ms/step - loss: 14977.5649 - mse: 14977.5649 - mape: 54.5629 - val_loss: 12906.5225 - val_mse: 12906.5225 - val_mape: 49.4874\n",
            "Epoch 7/100\n",
            "22/22 [==============================] - 0s 12ms/step - loss: 12819.7952 - mse: 12819.7952 - mape: 48.7146 - val_loss: 11513.5322 - val_mse: 11513.5322 - val_mape: 44.4701\n",
            "Epoch 8/100\n",
            "22/22 [==============================] - 0s 12ms/step - loss: 11474.1938 - mse: 11474.1938 - mape: 44.1538 - val_loss: 10298.8711 - val_mse: 10298.8711 - val_mape: 39.7051\n",
            "Epoch 9/100\n",
            "22/22 [==============================] - 0s 12ms/step - loss: 11456.5014 - mse: 11456.5014 - mape: 41.3025 - val_loss: 9241.4297 - val_mse: 9241.4297 - val_mape: 35.5545\n",
            "Epoch 10/100\n",
            "22/22 [==============================] - 0s 12ms/step - loss: 9466.0462 - mse: 9466.0462 - mape: 36.2082 - val_loss: 8361.0625 - val_mse: 8361.0625 - val_mape: 32.3963\n",
            "Epoch 11/100\n",
            "22/22 [==============================] - 0s 12ms/step - loss: 8233.2705 - mse: 8233.2705 - mape: 32.7885 - val_loss: 7602.2842 - val_mse: 7602.2842 - val_mape: 29.9890\n",
            "Epoch 12/100\n",
            "22/22 [==============================] - 0s 12ms/step - loss: 9018.0450 - mse: 9018.0450 - mape: 31.6653 - val_loss: 6931.7485 - val_mse: 6931.7485 - val_mape: 28.8521\n",
            "Epoch 13/100\n",
            "22/22 [==============================] - 0s 12ms/step - loss: 7146.9395 - mse: 7146.9395 - mape: 29.9212 - val_loss: 6376.9302 - val_mse: 6376.9302 - val_mape: 28.3302\n",
            "Epoch 14/100\n",
            "22/22 [==============================] - 0s 12ms/step - loss: 7198.7374 - mse: 7198.7374 - mape: 29.7098 - val_loss: 5909.9487 - val_mse: 5909.9487 - val_mape: 27.9833\n",
            "Epoch 15/100\n",
            "22/22 [==============================] - 0s 12ms/step - loss: 5868.7975 - mse: 5868.7975 - mape: 27.7155 - val_loss: 5514.1426 - val_mse: 5514.1426 - val_mape: 27.6309\n",
            "Epoch 16/100\n",
            "22/22 [==============================] - 0s 12ms/step - loss: 5669.1237 - mse: 5669.1237 - mape: 28.1066 - val_loss: 5183.5488 - val_mse: 5183.5488 - val_mape: 27.2303\n",
            "Epoch 17/100\n",
            "22/22 [==============================] - 0s 14ms/step - loss: 5043.7738 - mse: 5043.7738 - mape: 27.2837 - val_loss: 4883.6279 - val_mse: 4883.6279 - val_mape: 26.6117\n",
            "Epoch 18/100\n",
            "22/22 [==============================] - 0s 12ms/step - loss: 5025.9659 - mse: 5025.9659 - mape: 26.6492 - val_loss: 4436.8223 - val_mse: 4436.8223 - val_mape: 22.6346\n",
            "Epoch 19/100\n",
            "22/22 [==============================] - 0s 12ms/step - loss: 4336.4691 - mse: 4336.4691 - mape: 22.0679 - val_loss: 4025.2419 - val_mse: 4025.2419 - val_mape: 18.0039\n",
            "Epoch 20/100\n",
            "22/22 [==============================] - 0s 11ms/step - loss: 4213.0684 - mse: 4213.0684 - mape: 18.8972 - val_loss: 3721.8728 - val_mse: 3721.8728 - val_mape: 17.3596\n",
            "Epoch 21/100\n",
            "22/22 [==============================] - 0s 12ms/step - loss: 3637.3215 - mse: 3637.3215 - mape: 17.2199 - val_loss: 3455.5525 - val_mse: 3455.5525 - val_mape: 16.3387\n",
            "Epoch 22/100\n",
            "22/22 [==============================] - 0s 12ms/step - loss: 3839.4556 - mse: 3839.4556 - mape: 17.6876 - val_loss: 3212.4385 - val_mse: 3212.4385 - val_mape: 15.2925\n",
            "Epoch 23/100\n",
            "22/22 [==============================] - 0s 12ms/step - loss: 2997.7919 - mse: 2997.7919 - mape: 15.0329 - val_loss: 3005.9241 - val_mse: 3005.9241 - val_mape: 14.4820\n",
            "Epoch 24/100\n",
            "22/22 [==============================] - 0s 12ms/step - loss: 3029.1134 - mse: 3029.1134 - mape: 14.8536 - val_loss: 2809.6262 - val_mse: 2809.6262 - val_mape: 13.7155\n",
            "Epoch 25/100\n",
            "22/22 [==============================] - 0s 12ms/step - loss: 2414.6995 - mse: 2414.6995 - mape: 12.9294 - val_loss: 2634.0020 - val_mse: 2634.0020 - val_mape: 12.9115\n",
            "Epoch 26/100\n",
            "22/22 [==============================] - 0s 12ms/step - loss: 2781.5632 - mse: 2781.5632 - mape: 13.4204 - val_loss: 2469.7185 - val_mse: 2469.7185 - val_mape: 12.3952\n",
            "Epoch 27/100\n",
            "22/22 [==============================] - 0s 12ms/step - loss: 2660.0431 - mse: 2660.0431 - mape: 12.7263 - val_loss: 2325.2576 - val_mse: 2325.2576 - val_mape: 11.5854\n",
            "Epoch 28/100\n",
            "22/22 [==============================] - 0s 12ms/step - loss: 2202.4942 - mse: 2202.4942 - mape: 11.8595 - val_loss: 2192.3040 - val_mse: 2192.3040 - val_mape: 11.2125\n",
            "Epoch 29/100\n",
            "22/22 [==============================] - 0s 12ms/step - loss: 2227.0765 - mse: 2227.0765 - mape: 11.0110 - val_loss: 2070.4338 - val_mse: 2070.4338 - val_mape: 10.8238\n",
            "Epoch 30/100\n",
            "22/22 [==============================] - 0s 12ms/step - loss: 2360.4240 - mse: 2360.4240 - mape: 11.0179 - val_loss: 1955.2296 - val_mse: 1955.2296 - val_mape: 10.4842\n",
            "Epoch 31/100\n",
            "22/22 [==============================] - 0s 12ms/step - loss: 1966.7284 - mse: 1966.7284 - mape: 9.9379 - val_loss: 1848.7777 - val_mse: 1848.7777 - val_mape: 9.7099\n",
            "Epoch 32/100\n",
            "22/22 [==============================] - 0s 12ms/step - loss: 2019.1837 - mse: 2019.1837 - mape: 10.3312 - val_loss: 1749.8071 - val_mse: 1749.8071 - val_mape: 9.2325\n",
            "Epoch 33/100\n",
            "22/22 [==============================] - 0s 12ms/step - loss: 1783.1115 - mse: 1783.1115 - mape: 9.6908 - val_loss: 1658.9055 - val_mse: 1658.9055 - val_mape: 8.9729\n",
            "Epoch 34/100\n",
            "22/22 [==============================] - 0s 14ms/step - loss: 1681.4381 - mse: 1681.4381 - mape: 9.1325 - val_loss: 1574.3866 - val_mse: 1574.3866 - val_mape: 8.4492\n",
            "Epoch 35/100\n",
            "22/22 [==============================] - 0s 12ms/step - loss: 1623.7703 - mse: 1623.7703 - mape: 8.8465 - val_loss: 1494.4723 - val_mse: 1494.4723 - val_mape: 8.2467\n",
            "Epoch 36/100\n",
            "22/22 [==============================] - 0s 13ms/step - loss: 1560.3197 - mse: 1560.3197 - mape: 8.4924 - val_loss: 1417.3490 - val_mse: 1417.3490 - val_mape: 7.8041\n",
            "Epoch 37/100\n",
            "22/22 [==============================] - 0s 13ms/step - loss: 1534.9036 - mse: 1534.9036 - mape: 8.4234 - val_loss: 1344.2795 - val_mse: 1344.2795 - val_mape: 7.2977\n",
            "Epoch 38/100\n",
            "22/22 [==============================] - 0s 13ms/step - loss: 1268.3065 - mse: 1268.3065 - mape: 7.7192 - val_loss: 1278.3917 - val_mse: 1278.3917 - val_mape: 7.2079\n",
            "Epoch 39/100\n",
            "22/22 [==============================] - 0s 12ms/step - loss: 1233.5664 - mse: 1233.5664 - mape: 7.6996 - val_loss: 1213.6271 - val_mse: 1213.6271 - val_mape: 6.8088\n",
            "Epoch 40/100\n",
            "22/22 [==============================] - 0s 12ms/step - loss: 1185.7116 - mse: 1185.7116 - mape: 7.2757 - val_loss: 1154.6213 - val_mse: 1154.6213 - val_mape: 6.5866\n",
            "Epoch 41/100\n",
            "22/22 [==============================] - 0s 13ms/step - loss: 1345.9226 - mse: 1345.9226 - mape: 7.4664 - val_loss: 1101.7950 - val_mse: 1101.7950 - val_mape: 6.3384\n",
            "Epoch 42/100\n",
            "22/22 [==============================] - 0s 13ms/step - loss: 1014.1025 - mse: 1014.1025 - mape: 6.6303 - val_loss: 1047.4504 - val_mse: 1047.4504 - val_mape: 6.1657\n",
            "Epoch 43/100\n",
            "22/22 [==============================] - 0s 12ms/step - loss: 951.4239 - mse: 951.4239 - mape: 6.6051 - val_loss: 999.0616 - val_mse: 999.0616 - val_mape: 5.7448\n",
            "Epoch 44/100\n",
            "22/22 [==============================] - 0s 13ms/step - loss: 1051.3594 - mse: 1051.3594 - mape: 6.6870 - val_loss: 948.9073 - val_mse: 948.9073 - val_mape: 5.5666\n",
            "Epoch 45/100\n",
            "22/22 [==============================] - 0s 12ms/step - loss: 989.8633 - mse: 989.8633 - mape: 6.5157 - val_loss: 905.9612 - val_mse: 905.9612 - val_mape: 5.2973\n",
            "Epoch 46/100\n",
            "22/22 [==============================] - 0s 13ms/step - loss: 833.9074 - mse: 833.9074 - mape: 6.0463 - val_loss: 866.4673 - val_mse: 866.4673 - val_mape: 5.5486\n",
            "Epoch 47/100\n",
            "22/22 [==============================] - 0s 12ms/step - loss: 905.4811 - mse: 905.4811 - mape: 6.6185 - val_loss: 839.7252 - val_mse: 839.7252 - val_mape: 5.9538\n",
            "Epoch 48/100\n",
            "22/22 [==============================] - 0s 13ms/step - loss: 829.8258 - mse: 829.8258 - mape: 6.2541 - val_loss: 789.0316 - val_mse: 789.0316 - val_mape: 5.0648\n",
            "Epoch 49/100\n",
            "22/22 [==============================] - 0s 13ms/step - loss: 821.1708 - mse: 821.1708 - mape: 6.0169 - val_loss: 750.6362 - val_mse: 750.6362 - val_mape: 4.8300\n",
            "Epoch 50/100\n",
            "22/22 [==============================] - 0s 13ms/step - loss: 781.7015 - mse: 781.7015 - mape: 5.7374 - val_loss: 716.4220 - val_mse: 716.4220 - val_mape: 4.7489\n",
            "Epoch 51/100\n",
            "22/22 [==============================] - 0s 13ms/step - loss: 740.7170 - mse: 740.7170 - mape: 5.5895 - val_loss: 684.3591 - val_mse: 684.3591 - val_mape: 4.7031\n",
            "Epoch 52/100\n",
            "22/22 [==============================] - 0s 13ms/step - loss: 844.7165 - mse: 844.7165 - mape: 6.0795 - val_loss: 654.1372 - val_mse: 654.1372 - val_mape: 4.5259\n",
            "Epoch 53/100\n",
            "22/22 [==============================] - 0s 13ms/step - loss: 663.5684 - mse: 663.5684 - mape: 5.4069 - val_loss: 627.0364 - val_mse: 627.0364 - val_mape: 4.6940\n",
            "Epoch 54/100\n",
            "22/22 [==============================] - 0s 13ms/step - loss: 688.3596 - mse: 688.3596 - mape: 5.6226 - val_loss: 597.9452 - val_mse: 597.9452 - val_mape: 4.4439\n",
            "Epoch 55/100\n",
            "22/22 [==============================] - 0s 13ms/step - loss: 663.7167 - mse: 663.7167 - mape: 5.3855 - val_loss: 590.3052 - val_mse: 590.3052 - val_mape: 5.5148\n",
            "Epoch 56/100\n",
            "22/22 [==============================] - 0s 12ms/step - loss: 556.4061 - mse: 556.4061 - mape: 5.1921 - val_loss: 549.0369 - val_mse: 549.0369 - val_mape: 4.2705\n",
            "Epoch 57/100\n",
            "22/22 [==============================] - 0s 13ms/step - loss: 586.9125 - mse: 586.9125 - mape: 5.0492 - val_loss: 523.7639 - val_mse: 523.7639 - val_mape: 4.1379\n",
            "Epoch 58/100\n",
            "22/22 [==============================] - 0s 12ms/step - loss: 530.6542 - mse: 530.6542 - mape: 5.2052 - val_loss: 512.0968 - val_mse: 512.0968 - val_mape: 4.6972\n",
            "Epoch 59/100\n",
            "22/22 [==============================] - 0s 13ms/step - loss: 529.5757 - mse: 529.5757 - mape: 5.2950 - val_loss: 480.1035 - val_mse: 480.1035 - val_mape: 3.9767\n",
            "Epoch 60/100\n",
            "22/22 [==============================] - 0s 12ms/step - loss: 608.0271 - mse: 608.0271 - mape: 5.2231 - val_loss: 477.5748 - val_mse: 477.5748 - val_mape: 5.0076\n",
            "Epoch 61/100\n",
            "22/22 [==============================] - 0s 13ms/step - loss: 492.0803 - mse: 492.0803 - mape: 5.2676 - val_loss: 446.4584 - val_mse: 446.4584 - val_mape: 4.1891\n",
            "Epoch 62/100\n",
            "22/22 [==============================] - 0s 12ms/step - loss: 537.1398 - mse: 537.1398 - mape: 5.0477 - val_loss: 428.7185 - val_mse: 428.7185 - val_mape: 4.1991\n",
            "Epoch 63/100\n",
            "22/22 [==============================] - 0s 13ms/step - loss: 444.4421 - mse: 444.4421 - mape: 4.9618 - val_loss: 410.7509 - val_mse: 410.7509 - val_mape: 4.2986\n",
            "Epoch 64/100\n",
            "22/22 [==============================] - 0s 13ms/step - loss: 468.2941 - mse: 468.2941 - mape: 4.8363 - val_loss: 386.2874 - val_mse: 386.2874 - val_mape: 3.6401\n",
            "Epoch 65/100\n",
            "22/22 [==============================] - 0s 13ms/step - loss: 453.7647 - mse: 453.7647 - mape: 4.8237 - val_loss: 369.8934 - val_mse: 369.8934 - val_mape: 3.6007\n",
            "Epoch 66/100\n",
            "22/22 [==============================] - 0s 13ms/step - loss: 381.3818 - mse: 381.3818 - mape: 4.7096 - val_loss: 356.3571 - val_mse: 356.3571 - val_mape: 3.6131\n",
            "Epoch 67/100\n",
            "22/22 [==============================] - 0s 12ms/step - loss: 395.6898 - mse: 395.6898 - mape: 4.5335 - val_loss: 345.6861 - val_mse: 345.6861 - val_mape: 3.7194\n",
            "Epoch 68/100\n",
            "22/22 [==============================] - 0s 14ms/step - loss: 357.3559 - mse: 357.3559 - mape: 4.5238 - val_loss: 330.3660 - val_mse: 330.3660 - val_mape: 3.8408\n",
            "Epoch 69/100\n",
            "22/22 [==============================] - 0s 13ms/step - loss: 411.6044 - mse: 411.6044 - mape: 4.7498 - val_loss: 317.1211 - val_mse: 317.1211 - val_mape: 3.5623\n",
            "Epoch 70/100\n",
            "22/22 [==============================] - 0s 13ms/step - loss: 380.3229 - mse: 380.3229 - mape: 4.6198 - val_loss: 303.0775 - val_mse: 303.0775 - val_mape: 3.3105\n",
            "Epoch 71/100\n",
            "22/22 [==============================] - 0s 13ms/step - loss: 327.8830 - mse: 327.8830 - mape: 4.3161 - val_loss: 288.5446 - val_mse: 288.5446 - val_mape: 3.1556\n",
            "Epoch 72/100\n",
            "22/22 [==============================] - 0s 13ms/step - loss: 348.8980 - mse: 348.8980 - mape: 4.4879 - val_loss: 288.3305 - val_mse: 288.3305 - val_mape: 3.6942\n",
            "Epoch 73/100\n",
            "22/22 [==============================] - 0s 13ms/step - loss: 321.1900 - mse: 321.1900 - mape: 4.8178 - val_loss: 288.7154 - val_mse: 288.7154 - val_mape: 4.1754\n",
            "Epoch 74/100\n",
            "22/22 [==============================] - 0s 13ms/step - loss: 323.4461 - mse: 323.4461 - mape: 4.8310 - val_loss: 265.0171 - val_mse: 265.0171 - val_mape: 3.5874\n",
            "Epoch 75/100\n",
            "22/22 [==============================] - 0s 13ms/step - loss: 254.6705 - mse: 254.6705 - mape: 4.1007 - val_loss: 253.3569 - val_mse: 253.3569 - val_mape: 3.3919\n",
            "Epoch 76/100\n",
            "22/22 [==============================] - 0s 13ms/step - loss: 343.3311 - mse: 343.3311 - mape: 4.3839 - val_loss: 236.7431 - val_mse: 236.7431 - val_mape: 2.9113\n",
            "Epoch 77/100\n",
            "22/22 [==============================] - 0s 13ms/step - loss: 270.2755 - mse: 270.2755 - mape: 4.2709 - val_loss: 227.6865 - val_mse: 227.6865 - val_mape: 2.8235\n",
            "Epoch 78/100\n",
            "22/22 [==============================] - 0s 13ms/step - loss: 267.3710 - mse: 267.3710 - mape: 4.0798 - val_loss: 219.8974 - val_mse: 219.8974 - val_mape: 2.7808\n",
            "Epoch 79/100\n",
            "22/22 [==============================] - 0s 12ms/step - loss: 195.2146 - mse: 195.2146 - mape: 3.6656 - val_loss: 211.5709 - val_mse: 211.5709 - val_mape: 2.7965\n",
            "Epoch 80/100\n",
            "22/22 [==============================] - 0s 13ms/step - loss: 265.2060 - mse: 265.2060 - mape: 3.9470 - val_loss: 205.9264 - val_mse: 205.9264 - val_mape: 3.1776\n",
            "Epoch 81/100\n",
            "22/22 [==============================] - 0s 13ms/step - loss: 228.3985 - mse: 228.3985 - mape: 3.9211 - val_loss: 206.1346 - val_mse: 206.1346 - val_mape: 3.5698\n",
            "Epoch 82/100\n",
            "22/22 [==============================] - 0s 12ms/step - loss: 215.5743 - mse: 215.5743 - mape: 3.8432 - val_loss: 194.5434 - val_mse: 194.5434 - val_mape: 2.8137\n",
            "Epoch 83/100\n",
            "22/22 [==============================] - 0s 13ms/step - loss: 187.6491 - mse: 187.6491 - mape: 3.8709 - val_loss: 186.5471 - val_mse: 186.5471 - val_mape: 3.1244\n",
            "Epoch 84/100\n",
            "22/22 [==============================] - 0s 13ms/step - loss: 198.8085 - mse: 198.8085 - mape: 3.8143 - val_loss: 177.8400 - val_mse: 177.8400 - val_mape: 2.5795\n",
            "Epoch 85/100\n",
            "22/22 [==============================] - 0s 13ms/step - loss: 231.1296 - mse: 231.1296 - mape: 4.0705 - val_loss: 168.6053 - val_mse: 168.6053 - val_mape: 2.4786\n",
            "Epoch 86/100\n",
            "22/22 [==============================] - 0s 13ms/step - loss: 205.0344 - mse: 205.0344 - mape: 3.8572 - val_loss: 166.4435 - val_mse: 166.4435 - val_mape: 2.6615\n",
            "Epoch 87/100\n",
            "22/22 [==============================] - 0s 13ms/step - loss: 192.1410 - mse: 192.1410 - mape: 3.8521 - val_loss: 157.9080 - val_mse: 157.9080 - val_mape: 2.4341\n",
            "Epoch 88/100\n",
            "22/22 [==============================] - 0s 13ms/step - loss: 195.5100 - mse: 195.5100 - mape: 3.6478 - val_loss: 152.8433 - val_mse: 152.8433 - val_mape: 2.4967\n",
            "Epoch 89/100\n",
            "22/22 [==============================] - 0s 13ms/step - loss: 229.1587 - mse: 229.1587 - mape: 3.8573 - val_loss: 149.3309 - val_mse: 149.3309 - val_mape: 2.6573\n",
            "Epoch 90/100\n",
            "22/22 [==============================] - 0s 13ms/step - loss: 156.7045 - mse: 156.7045 - mape: 3.5826 - val_loss: 141.6318 - val_mse: 141.6318 - val_mape: 2.3315\n",
            "Epoch 91/100\n",
            "22/22 [==============================] - 0s 13ms/step - loss: 200.5873 - mse: 200.5873 - mape: 3.6294 - val_loss: 136.2588 - val_mse: 136.2588 - val_mape: 2.2818\n",
            "Epoch 92/100\n",
            "22/22 [==============================] - 0s 13ms/step - loss: 182.9211 - mse: 182.9211 - mape: 3.7335 - val_loss: 131.9401 - val_mse: 131.9401 - val_mape: 2.2718\n",
            "Epoch 93/100\n",
            "22/22 [==============================] - 0s 12ms/step - loss: 167.8454 - mse: 167.8454 - mape: 3.6843 - val_loss: 129.5938 - val_mse: 129.5938 - val_mape: 2.4669\n",
            "Epoch 94/100\n",
            "22/22 [==============================] - 0s 13ms/step - loss: 157.1114 - mse: 157.1114 - mape: 3.7263 - val_loss: 134.6238 - val_mse: 134.6238 - val_mape: 2.6618\n",
            "Epoch 95/100\n",
            "22/22 [==============================] - 0s 13ms/step - loss: 161.7904 - mse: 161.7904 - mape: 4.1033 - val_loss: 122.2057 - val_mse: 122.2057 - val_mape: 2.6172\n",
            "Epoch 96/100\n",
            "22/22 [==============================] - 0s 13ms/step - loss: 145.2904 - mse: 145.2904 - mape: 3.7478 - val_loss: 117.5614 - val_mse: 117.5614 - val_mape: 2.3266\n",
            "Epoch 97/100\n",
            "22/22 [==============================] - 0s 13ms/step - loss: 126.2684 - mse: 126.2684 - mape: 3.4959 - val_loss: 127.5936 - val_mse: 127.5936 - val_mape: 2.9475\n",
            "Epoch 98/100\n",
            "22/22 [==============================] - 0s 14ms/step - loss: 126.1856 - mse: 126.1856 - mape: 3.4842 - val_loss: 112.0698 - val_mse: 112.0698 - val_mape: 2.3858\n",
            "Epoch 99/100\n",
            "22/22 [==============================] - 0s 13ms/step - loss: 146.6269 - mse: 146.6269 - mape: 3.4126 - val_loss: 108.0678 - val_mse: 108.0678 - val_mape: 2.4127\n",
            "Epoch 100/100\n",
            "22/22 [==============================] - 0s 13ms/step - loss: 146.2781 - mse: 146.2781 - mape: 4.0784 - val_loss: 109.2763 - val_mse: 109.2763 - val_mape: 2.9460\n"
          ],
          "name": "stdout"
        }
      ]
    },
    {
      "cell_type": "code",
      "metadata": {
        "id": "XJGdMP9FJmq1"
      },
      "source": [
        "#Bidirectional GRU\n",
        "bidirectional_GRU = Sequential()\n",
        "bidirectional_GRU.add(Bidirectional(GRU(256, input_shape=(1, 12), return_sequences = True)))\n",
        "bidirectional_GRU.add(Dropout(0.2))\n",
        "bidirectional_GRU.add(Bidirectional(GRU(256, return_sequences= True)))\n",
        "bidirectional_GRU.add(Dropout(0.2))\n",
        "bidirectional_GRU.add(Bidirectional(GRU(256)))\n",
        "bidirectional_GRU.add(Dropout(0.2))\n",
        "bidirectional_GRU.add(Dense(1))"
      ],
      "execution_count": null,
      "outputs": []
    },
    {
      "cell_type": "code",
      "metadata": {
        "colab": {
          "base_uri": "https://localhost:8080/"
        },
        "id": "4QYaFI3HKBiX",
        "outputId": "b043a862-396f-4c21-b755-3c0713df1e88"
      },
      "source": [
        "bidirectional_GRU.compile(loss='mse', optimizer='adam', metrics = ['mse', 'mape'])\n",
        "bidirectional_GRU_history = bidirectional_GRU.fit(train_norm_X, train_y, epochs = 100, batch_size = 32, validation_data= (validation_norm_X, validation_y))"
      ],
      "execution_count": null,
      "outputs": [
        {
          "output_type": "stream",
          "text": [
            "Epoch 1/100\n",
            "22/22 [==============================] - 13s 104ms/step - loss: 32698.3370 - mse: 32698.3370 - mape: 97.3919 - val_loss: 22766.3145 - val_mse: 22766.3145 - val_mape: 78.4134\n",
            "Epoch 2/100\n",
            "22/22 [==============================] - 0s 11ms/step - loss: 22503.7484 - mse: 22503.7484 - mape: 75.2356 - val_loss: 18870.8047 - val_mse: 18870.8047 - val_mape: 67.4502\n",
            "Epoch 3/100\n",
            "22/22 [==============================] - 0s 11ms/step - loss: 17731.4917 - mse: 17731.4917 - mape: 65.6571 - val_loss: 16004.7773 - val_mse: 16004.7773 - val_mape: 59.3496\n",
            "Epoch 4/100\n",
            "22/22 [==============================] - 0s 11ms/step - loss: 16786.2929 - mse: 16786.2929 - mape: 58.5183 - val_loss: 13646.9873 - val_mse: 13646.9873 - val_mape: 51.9415\n",
            "Epoch 5/100\n",
            "22/22 [==============================] - 0s 13ms/step - loss: 14119.9780 - mse: 14119.9780 - mape: 51.4722 - val_loss: 11730.9678 - val_mse: 11730.9678 - val_mape: 45.2279\n",
            "Epoch 6/100\n",
            "22/22 [==============================] - 0s 12ms/step - loss: 12080.1356 - mse: 12080.1356 - mape: 44.9737 - val_loss: 10140.8604 - val_mse: 10140.8604 - val_mape: 38.9998\n",
            "Epoch 7/100\n",
            "22/22 [==============================] - 0s 11ms/step - loss: 10018.5949 - mse: 10018.5949 - mape: 38.2514 - val_loss: 8831.9854 - val_mse: 8831.9854 - val_mape: 34.0908\n",
            "Epoch 8/100\n",
            "22/22 [==============================] - 0s 11ms/step - loss: 8752.8254 - mse: 8752.8254 - mape: 34.1922 - val_loss: 7748.0293 - val_mse: 7748.0293 - val_mape: 30.4266\n",
            "Epoch 9/100\n",
            "22/22 [==============================] - 0s 12ms/step - loss: 8663.7128 - mse: 8663.7128 - mape: 32.3000 - val_loss: 6858.4312 - val_mse: 6858.4312 - val_mape: 28.8410\n",
            "Epoch 10/100\n",
            "22/22 [==============================] - 0s 12ms/step - loss: 7026.0035 - mse: 7026.0035 - mape: 29.4721 - val_loss: 6174.6860 - val_mse: 6174.6860 - val_mape: 28.2778\n",
            "Epoch 11/100\n",
            "22/22 [==============================] - 0s 12ms/step - loss: 6024.3840 - mse: 6024.3840 - mape: 28.6211 - val_loss: 5626.3916 - val_mse: 5626.3916 - val_mape: 27.8736\n",
            "Epoch 12/100\n",
            "22/22 [==============================] - 0s 12ms/step - loss: 6817.4251 - mse: 6817.4251 - mape: 29.1874 - val_loss: 5173.9624 - val_mse: 5173.9624 - val_mape: 27.4892\n",
            "Epoch 13/100\n",
            "22/22 [==============================] - 0s 12ms/step - loss: 5289.1502 - mse: 5289.1502 - mape: 28.1196 - val_loss: 4836.3643 - val_mse: 4836.3643 - val_mape: 27.3226\n",
            "Epoch 14/100\n",
            "22/22 [==============================] - 0s 12ms/step - loss: 5447.0010 - mse: 5447.0010 - mape: 27.4257 - val_loss: 4578.3882 - val_mse: 4578.3882 - val_mape: 27.3833\n",
            "Epoch 15/100\n",
            "22/22 [==============================] - 0s 12ms/step - loss: 4498.0890 - mse: 4498.0890 - mape: 26.0687 - val_loss: 4375.0640 - val_mse: 4375.0640 - val_mape: 27.5308\n",
            "Epoch 16/100\n",
            "22/22 [==============================] - 0s 12ms/step - loss: 4404.9009 - mse: 4404.9009 - mape: 26.8162 - val_loss: 4168.9849 - val_mse: 4168.9849 - val_mape: 27.0517\n",
            "Epoch 17/100\n",
            "22/22 [==============================] - 0s 12ms/step - loss: 3957.9723 - mse: 3957.9723 - mape: 25.8057 - val_loss: 3565.8967 - val_mse: 3565.8967 - val_mape: 20.6662\n",
            "Epoch 18/100\n",
            "22/22 [==============================] - 0s 12ms/step - loss: 3598.5775 - mse: 3598.5775 - mape: 18.5748 - val_loss: 3139.5039 - val_mse: 3139.5039 - val_mape: 16.4075\n",
            "Epoch 19/100\n",
            "22/22 [==============================] - 0s 11ms/step - loss: 3016.2709 - mse: 3016.2709 - mape: 15.9549 - val_loss: 2860.9202 - val_mse: 2860.9202 - val_mape: 14.6951\n",
            "Epoch 20/100\n",
            "22/22 [==============================] - 0s 12ms/step - loss: 2983.9091 - mse: 2983.9091 - mape: 14.5587 - val_loss: 2611.7688 - val_mse: 2611.7688 - val_mape: 13.3661\n",
            "Epoch 21/100\n",
            "22/22 [==============================] - 0s 12ms/step - loss: 2537.8598 - mse: 2537.8598 - mape: 12.9432 - val_loss: 2393.7205 - val_mse: 2393.7205 - val_mape: 12.0267\n",
            "Epoch 22/100\n",
            "22/22 [==============================] - 0s 12ms/step - loss: 2643.8008 - mse: 2643.8008 - mape: 12.9466 - val_loss: 2196.2510 - val_mse: 2196.2510 - val_mape: 10.8366\n",
            "Epoch 23/100\n",
            "22/22 [==============================] - 0s 12ms/step - loss: 2042.9414 - mse: 2042.9414 - mape: 10.7517 - val_loss: 2043.7935 - val_mse: 2043.7935 - val_mape: 10.4389\n",
            "Epoch 24/100\n",
            "22/22 [==============================] - 0s 12ms/step - loss: 2041.3181 - mse: 2041.3181 - mape: 10.7626 - val_loss: 1886.5160 - val_mse: 1886.5160 - val_mape: 9.2515\n",
            "Epoch 25/100\n",
            "22/22 [==============================] - 0s 12ms/step - loss: 1593.5312 - mse: 1593.5312 - mape: 9.1205 - val_loss: 1752.1270 - val_mse: 1752.1270 - val_mape: 8.9348\n",
            "Epoch 26/100\n",
            "22/22 [==============================] - 0s 13ms/step - loss: 1856.9556 - mse: 1856.9556 - mape: 9.8078 - val_loss: 1619.7603 - val_mse: 1619.7603 - val_mape: 7.8256\n",
            "Epoch 27/100\n",
            "22/22 [==============================] - 0s 13ms/step - loss: 1780.3246 - mse: 1780.3246 - mape: 9.3505 - val_loss: 1513.2230 - val_mse: 1513.2230 - val_mape: 7.6346\n",
            "Epoch 28/100\n",
            "22/22 [==============================] - 0s 12ms/step - loss: 1416.4310 - mse: 1416.4310 - mape: 8.3814 - val_loss: 1409.6079 - val_mse: 1409.6079 - val_mape: 7.0183\n",
            "Epoch 29/100\n",
            "22/22 [==============================] - 0s 12ms/step - loss: 1456.8756 - mse: 1456.8756 - mape: 7.9797 - val_loss: 1326.0914 - val_mse: 1326.0914 - val_mape: 7.3397\n",
            "Epoch 30/100\n",
            "22/22 [==============================] - 0s 12ms/step - loss: 1559.9101 - mse: 1559.9101 - mape: 8.2131 - val_loss: 1230.9971 - val_mse: 1230.9971 - val_mape: 6.2371\n",
            "Epoch 31/100\n",
            "22/22 [==============================] - 0s 12ms/step - loss: 1292.7245 - mse: 1292.7245 - mape: 7.4014 - val_loss: 1155.5736 - val_mse: 1155.5736 - val_mape: 6.0193\n",
            "Epoch 32/100\n",
            "22/22 [==============================] - 0s 12ms/step - loss: 1286.1028 - mse: 1286.1028 - mape: 7.6114 - val_loss: 1094.8577 - val_mse: 1094.8577 - val_mape: 6.9522\n",
            "Epoch 33/100\n",
            "22/22 [==============================] - 0s 12ms/step - loss: 1106.1628 - mse: 1106.1628 - mape: 7.2684 - val_loss: 1021.5073 - val_mse: 1021.5073 - val_mape: 5.8547\n",
            "Epoch 34/100\n",
            "22/22 [==============================] - 0s 12ms/step - loss: 1059.5919 - mse: 1059.5919 - mape: 6.9687 - val_loss: 966.6500 - val_mse: 966.6500 - val_mape: 6.1040\n",
            "Epoch 35/100\n",
            "22/22 [==============================] - 0s 12ms/step - loss: 999.4741 - mse: 999.4741 - mape: 6.7706 - val_loss: 902.1375 - val_mse: 902.1375 - val_mape: 5.3468\n",
            "Epoch 36/100\n",
            "22/22 [==============================] - 0s 12ms/step - loss: 972.3764 - mse: 972.3764 - mape: 6.3511 - val_loss: 845.5176 - val_mse: 845.5176 - val_mape: 4.9023\n",
            "Epoch 37/100\n",
            "22/22 [==============================] - 0s 13ms/step - loss: 932.9960 - mse: 932.9960 - mape: 6.3251 - val_loss: 796.2994 - val_mse: 796.2994 - val_mape: 4.9346\n",
            "Epoch 38/100\n",
            "22/22 [==============================] - 0s 12ms/step - loss: 742.6654 - mse: 742.6654 - mape: 5.7385 - val_loss: 751.8411 - val_mse: 751.8411 - val_mape: 4.6113\n",
            "Epoch 39/100\n",
            "22/22 [==============================] - 0s 12ms/step - loss: 725.6801 - mse: 725.6801 - mape: 5.7918 - val_loss: 707.7492 - val_mse: 707.7492 - val_mape: 4.9902\n",
            "Epoch 40/100\n",
            "22/22 [==============================] - 0s 12ms/step - loss: 698.1763 - mse: 698.1763 - mape: 5.6018 - val_loss: 662.9931 - val_mse: 662.9931 - val_mape: 4.5195\n",
            "Epoch 41/100\n",
            "22/22 [==============================] - 0s 12ms/step - loss: 803.8692 - mse: 803.8692 - mape: 5.6507 - val_loss: 623.0854 - val_mse: 623.0854 - val_mape: 4.2935\n",
            "Epoch 42/100\n",
            "22/22 [==============================] - 0s 13ms/step - loss: 593.4493 - mse: 593.4493 - mape: 5.3062 - val_loss: 588.6357 - val_mse: 588.6357 - val_mape: 4.1878\n",
            "Epoch 43/100\n",
            "22/22 [==============================] - 0s 12ms/step - loss: 545.6799 - mse: 545.6799 - mape: 5.2201 - val_loss: 554.7748 - val_mse: 554.7748 - val_mape: 3.9434\n",
            "Epoch 44/100\n",
            "22/22 [==============================] - 0s 12ms/step - loss: 595.7125 - mse: 595.7125 - mape: 5.2178 - val_loss: 520.9703 - val_mse: 520.9703 - val_mape: 3.8525\n",
            "Epoch 45/100\n",
            "22/22 [==============================] - 0s 13ms/step - loss: 556.2465 - mse: 556.2465 - mape: 5.0748 - val_loss: 492.7737 - val_mse: 492.7737 - val_mape: 4.0407\n",
            "Epoch 46/100\n",
            "22/22 [==============================] - 0s 12ms/step - loss: 452.7429 - mse: 452.7429 - mape: 4.7206 - val_loss: 463.9592 - val_mse: 463.9592 - val_mape: 3.6446\n",
            "Epoch 47/100\n",
            "22/22 [==============================] - 0s 12ms/step - loss: 494.1814 - mse: 494.1814 - mape: 5.3151 - val_loss: 450.5755 - val_mse: 450.5755 - val_mape: 4.6024\n",
            "Epoch 48/100\n",
            "22/22 [==============================] - 0s 12ms/step - loss: 456.7128 - mse: 456.7128 - mape: 5.1988 - val_loss: 412.4372 - val_mse: 412.4372 - val_mape: 3.5114\n",
            "Epoch 49/100\n",
            "22/22 [==============================] - 0s 12ms/step - loss: 453.6877 - mse: 453.6877 - mape: 4.8406 - val_loss: 390.6167 - val_mse: 390.6167 - val_mape: 3.4298\n",
            "Epoch 50/100\n",
            "22/22 [==============================] - 0s 11ms/step - loss: 424.6690 - mse: 424.6690 - mape: 4.7176 - val_loss: 366.1210 - val_mse: 366.1210 - val_mape: 3.2514\n",
            "Epoch 51/100\n",
            "22/22 [==============================] - 0s 12ms/step - loss: 395.3243 - mse: 395.3243 - mape: 4.4136 - val_loss: 349.5998 - val_mse: 349.5998 - val_mape: 3.2526\n",
            "Epoch 52/100\n",
            "22/22 [==============================] - 0s 12ms/step - loss: 458.6300 - mse: 458.6300 - mape: 4.9175 - val_loss: 329.3042 - val_mse: 329.3042 - val_mape: 3.1329\n",
            "Epoch 53/100\n",
            "22/22 [==============================] - 0s 12ms/step - loss: 345.4955 - mse: 345.4955 - mape: 4.2910 - val_loss: 316.9381 - val_mse: 316.9381 - val_mape: 3.6287\n",
            "Epoch 54/100\n",
            "22/22 [==============================] - 0s 12ms/step - loss: 364.2248 - mse: 364.2248 - mape: 4.6112 - val_loss: 298.3951 - val_mse: 298.3951 - val_mape: 3.2323\n",
            "Epoch 55/100\n",
            "22/22 [==============================] - 0s 12ms/step - loss: 344.2308 - mse: 344.2308 - mape: 4.1621 - val_loss: 283.7223 - val_mse: 283.7223 - val_mape: 3.3188\n",
            "Epoch 56/100\n",
            "22/22 [==============================] - 0s 12ms/step - loss: 279.7016 - mse: 279.7016 - mape: 4.0286 - val_loss: 272.0721 - val_mse: 272.0721 - val_mape: 3.4012\n",
            "Epoch 57/100\n",
            "22/22 [==============================] - 0s 12ms/step - loss: 315.2389 - mse: 315.2389 - mape: 4.4992 - val_loss: 256.5549 - val_mse: 256.5549 - val_mape: 2.8732\n",
            "Epoch 58/100\n",
            "22/22 [==============================] - 0s 12ms/step - loss: 258.1461 - mse: 258.1461 - mape: 4.3204 - val_loss: 249.0712 - val_mse: 249.0712 - val_mape: 3.5196\n",
            "Epoch 59/100\n",
            "22/22 [==============================] - 0s 12ms/step - loss: 271.5743 - mse: 271.5743 - mape: 4.2883 - val_loss: 232.0212 - val_mse: 232.0212 - val_mape: 2.6589\n",
            "Epoch 60/100\n",
            "22/22 [==============================] - 0s 12ms/step - loss: 316.9531 - mse: 316.9531 - mape: 4.2127 - val_loss: 223.5063 - val_mse: 223.5063 - val_mape: 2.6849\n",
            "Epoch 61/100\n",
            "22/22 [==============================] - 0s 12ms/step - loss: 248.6283 - mse: 248.6283 - mape: 3.8630 - val_loss: 216.6458 - val_mse: 216.6458 - val_mape: 3.4179\n",
            "Epoch 62/100\n",
            "22/22 [==============================] - 0s 12ms/step - loss: 284.8645 - mse: 284.8645 - mape: 4.3396 - val_loss: 202.8842 - val_mse: 202.8842 - val_mape: 2.6765\n",
            "Epoch 63/100\n",
            "22/22 [==============================] - 0s 13ms/step - loss: 234.8191 - mse: 234.8191 - mape: 4.0656 - val_loss: 196.8053 - val_mse: 196.8053 - val_mape: 3.0894\n",
            "Epoch 64/100\n",
            "22/22 [==============================] - 0s 12ms/step - loss: 248.9622 - mse: 248.9622 - mape: 4.2385 - val_loss: 183.8380 - val_mse: 183.8380 - val_mape: 2.4458\n",
            "Epoch 65/100\n",
            "22/22 [==============================] - 0s 12ms/step - loss: 234.9255 - mse: 234.9255 - mape: 4.0538 - val_loss: 178.8351 - val_mse: 178.8351 - val_mape: 2.7366\n",
            "Epoch 66/100\n",
            "22/22 [==============================] - 0s 12ms/step - loss: 186.6067 - mse: 186.6067 - mape: 3.7754 - val_loss: 173.2826 - val_mse: 173.2826 - val_mape: 2.8106\n",
            "Epoch 67/100\n",
            "22/22 [==============================] - 0s 12ms/step - loss: 208.0605 - mse: 208.0605 - mape: 3.7497 - val_loss: 161.6545 - val_mse: 161.6545 - val_mape: 2.3953\n",
            "Epoch 68/100\n",
            "22/22 [==============================] - 0s 12ms/step - loss: 180.9893 - mse: 180.9893 - mape: 3.9117 - val_loss: 158.3638 - val_mse: 158.3638 - val_mape: 2.7082\n",
            "Epoch 69/100\n",
            "22/22 [==============================] - 0s 11ms/step - loss: 221.5840 - mse: 221.5840 - mape: 4.2392 - val_loss: 147.9226 - val_mse: 147.9226 - val_mape: 2.3059\n",
            "Epoch 70/100\n",
            "22/22 [==============================] - 0s 12ms/step - loss: 188.5721 - mse: 188.5721 - mape: 3.7829 - val_loss: 145.2157 - val_mse: 145.2157 - val_mape: 2.5243\n",
            "Epoch 71/100\n",
            "22/22 [==============================] - 0s 12ms/step - loss: 160.0868 - mse: 160.0868 - mape: 3.5324 - val_loss: 135.7523 - val_mse: 135.7523 - val_mape: 2.3515\n",
            "Epoch 72/100\n",
            "22/22 [==============================] - 0s 12ms/step - loss: 175.5280 - mse: 175.5280 - mape: 3.7246 - val_loss: 132.6672 - val_mse: 132.6672 - val_mape: 2.5732\n",
            "Epoch 73/100\n",
            "22/22 [==============================] - 0s 12ms/step - loss: 168.7564 - mse: 168.7564 - mape: 3.9047 - val_loss: 127.6930 - val_mse: 127.6930 - val_mape: 2.3559\n",
            "Epoch 74/100\n",
            "22/22 [==============================] - 0s 12ms/step - loss: 164.8471 - mse: 164.8471 - mape: 3.8025 - val_loss: 119.2122 - val_mse: 119.2122 - val_mape: 2.1652\n",
            "Epoch 75/100\n",
            "22/22 [==============================] - 0s 12ms/step - loss: 138.9971 - mse: 138.9971 - mape: 3.6595 - val_loss: 120.3300 - val_mse: 120.3300 - val_mape: 2.6342\n",
            "Epoch 76/100\n",
            "22/22 [==============================] - 0s 12ms/step - loss: 177.1587 - mse: 177.1587 - mape: 3.7484 - val_loss: 114.7658 - val_mse: 114.7658 - val_mape: 2.4506\n",
            "Epoch 77/100\n",
            "22/22 [==============================] - 0s 13ms/step - loss: 151.6593 - mse: 151.6593 - mape: 3.9094 - val_loss: 106.5006 - val_mse: 106.5006 - val_mape: 2.2543\n",
            "Epoch 78/100\n",
            "22/22 [==============================] - 0s 13ms/step - loss: 141.1886 - mse: 141.1886 - mape: 3.4820 - val_loss: 105.3461 - val_mse: 105.3461 - val_mape: 2.5570\n",
            "Epoch 79/100\n",
            "22/22 [==============================] - 0s 12ms/step - loss: 106.2437 - mse: 106.2437 - mape: 3.3389 - val_loss: 105.2493 - val_mse: 105.2493 - val_mape: 2.6566\n",
            "Epoch 80/100\n",
            "22/22 [==============================] - 0s 13ms/step - loss: 153.6690 - mse: 153.6690 - mape: 3.7956 - val_loss: 109.2928 - val_mse: 109.2928 - val_mape: 3.3312\n",
            "Epoch 81/100\n",
            "22/22 [==============================] - 0s 12ms/step - loss: 123.8067 - mse: 123.8067 - mape: 3.6446 - val_loss: 102.1499 - val_mse: 102.1499 - val_mape: 2.5465\n",
            "Epoch 82/100\n",
            "22/22 [==============================] - 0s 13ms/step - loss: 125.1084 - mse: 125.1084 - mape: 3.5824 - val_loss: 101.2709 - val_mse: 101.2709 - val_mape: 3.1397\n",
            "Epoch 83/100\n",
            "22/22 [==============================] - 0s 13ms/step - loss: 104.4189 - mse: 104.4189 - mape: 3.6542 - val_loss: 91.0184 - val_mse: 91.0184 - val_mape: 2.1997\n",
            "Epoch 84/100\n",
            "22/22 [==============================] - 0s 12ms/step - loss: 112.4236 - mse: 112.4236 - mape: 3.4475 - val_loss: 84.5569 - val_mse: 84.5569 - val_mape: 2.1842\n",
            "Epoch 85/100\n",
            "22/22 [==============================] - 0s 12ms/step - loss: 129.9715 - mse: 129.9715 - mape: 3.5188 - val_loss: 82.2137 - val_mse: 82.2137 - val_mape: 2.2038\n",
            "Epoch 86/100\n",
            "22/22 [==============================] - 0s 13ms/step - loss: 108.4912 - mse: 108.4912 - mape: 3.3416 - val_loss: 78.4077 - val_mse: 78.4077 - val_mape: 2.2837\n",
            "Epoch 87/100\n",
            "22/22 [==============================] - 0s 12ms/step - loss: 106.0405 - mse: 106.0405 - mape: 3.3356 - val_loss: 78.7121 - val_mse: 78.7121 - val_mape: 2.6107\n",
            "Epoch 88/100\n",
            "22/22 [==============================] - 0s 12ms/step - loss: 111.6789 - mse: 111.6789 - mape: 3.4328 - val_loss: 72.7775 - val_mse: 72.7775 - val_mape: 2.0488\n",
            "Epoch 89/100\n",
            "22/22 [==============================] - 0s 12ms/step - loss: 134.6789 - mse: 134.6789 - mape: 3.4987 - val_loss: 72.8465 - val_mse: 72.8465 - val_mape: 2.6266\n",
            "Epoch 90/100\n",
            "22/22 [==============================] - 0s 13ms/step - loss: 93.0438 - mse: 93.0438 - mape: 3.3446 - val_loss: 74.4903 - val_mse: 74.4903 - val_mape: 2.9773\n",
            "Epoch 91/100\n",
            "22/22 [==============================] - 0s 12ms/step - loss: 115.4166 - mse: 115.4166 - mape: 3.2433 - val_loss: 64.7493 - val_mse: 64.7493 - val_mape: 1.9314\n",
            "Epoch 92/100\n",
            "22/22 [==============================] - 0s 12ms/step - loss: 103.1667 - mse: 103.1667 - mape: 3.2646 - val_loss: 61.6819 - val_mse: 61.6819 - val_mape: 1.8495\n",
            "Epoch 93/100\n",
            "22/22 [==============================] - 0s 12ms/step - loss: 100.4521 - mse: 100.4521 - mape: 3.3471 - val_loss: 74.3255 - val_mse: 74.3255 - val_mape: 3.4012\n",
            "Epoch 94/100\n",
            "22/22 [==============================] - 0s 12ms/step - loss: 97.9798 - mse: 97.9798 - mape: 3.6963 - val_loss: 64.1879 - val_mse: 64.1879 - val_mape: 2.1411\n",
            "Epoch 95/100\n",
            "22/22 [==============================] - 0s 12ms/step - loss: 99.9245 - mse: 99.9245 - mape: 3.4957 - val_loss: 62.8565 - val_mse: 62.8565 - val_mape: 2.6638\n",
            "Epoch 96/100\n",
            "22/22 [==============================] - 0s 12ms/step - loss: 98.6432 - mse: 98.6432 - mape: 3.7385 - val_loss: 56.4990 - val_mse: 56.4990 - val_mape: 2.1360\n",
            "Epoch 97/100\n",
            "22/22 [==============================] - 0s 11ms/step - loss: 77.7906 - mse: 77.7906 - mape: 3.5072 - val_loss: 57.9186 - val_mse: 57.9186 - val_mape: 2.0107\n",
            "Epoch 98/100\n",
            "22/22 [==============================] - 0s 11ms/step - loss: 79.2297 - mse: 79.2297 - mape: 3.2106 - val_loss: 54.3158 - val_mse: 54.3158 - val_mape: 1.9610\n",
            "Epoch 99/100\n",
            "22/22 [==============================] - 0s 12ms/step - loss: 89.4476 - mse: 89.4476 - mape: 3.2161 - val_loss: 50.2138 - val_mse: 50.2138 - val_mape: 1.9158\n",
            "Epoch 100/100\n",
            "22/22 [==============================] - 0s 12ms/step - loss: 86.8129 - mse: 86.8129 - mape: 3.4228 - val_loss: 54.8759 - val_mse: 54.8759 - val_mape: 2.5907\n"
          ],
          "name": "stdout"
        }
      ]
    },
    {
      "cell_type": "markdown",
      "metadata": {
        "id": "gR7wRC5XaUr2"
      },
      "source": [
        "**Output of the Training Loop**\n",
        "\n",
        "\n",
        "*   The training loss and mape are more than the validation loss and mape which is a bit odd\n",
        "*   Training time was quite short using colab's GPU\n",
        "* Converting the mse to rmse to get a better sense of the error value, it gives a value of 9.32 from training and 7.4 from validation. This means that are model is only off the real values by those error values. The mape gives better relative values. We are off the real next open day prices by 3.44% on the training set and off the real next open day prices by 2.6% on the validation set\n",
        "\n"
      ]
    },
    {
      "cell_type": "code",
      "metadata": {
        "colab": {
          "base_uri": "https://localhost:8080/",
          "height": 583
        },
        "id": "YoIpdr8VKG36",
        "outputId": "a1d6b93b-2df4-4790-9134-e8b9024cf1d6"
      },
      "source": [
        "#Plotting Training MAPE of the Models\n",
        "models = [lstm_history, gru_history, bidirectional_LSTM_history, bidirectional_GRU_history]\n",
        "epochs = range(1,101)\n",
        "plt.figure(figsize = (11,9))\n",
        "for i in models:\n",
        "  plt.plot(epochs, i.history['mape'])\n",
        "plt.title('Training MAPE of Different RNN Models')\n",
        "plt.legend(['LSTM Model','GRU Model', 'Bidirectional LSTM Model', 'Bidirectional GRU Model'])\n",
        "plt.xlabel('epochs')\n",
        "plt.ylabel('MAPE (%)')"
      ],
      "execution_count": null,
      "outputs": [
        {
          "output_type": "execute_result",
          "data": {
            "text/plain": [
              "Text(0, 0.5, 'MAPE (%)')"
            ]
          },
          "metadata": {
            "tags": []
          },
          "execution_count": 58
        },
        {
          "output_type": "display_data",
          "data": {
            "image/png": "[encoded data removed]",
            "text/plain": [
              "<Figure size 792x648 with 1 Axes>"
            ]
          },
          "metadata": {
            "tags": [],
            "needs_background": "light"
          }
        }
      ]
    },
    {
      "cell_type": "code",
      "metadata": {
        "colab": {
          "base_uri": "https://localhost:8080/",
          "height": 583
        },
        "id": "GQ6i8VxkLi4k",
        "outputId": "e6188363-398d-4648-c5fe-2967be40bc14"
      },
      "source": [
        "#Plotting Training RMSE of the Models\n",
        "models = [lstm_history, gru_history, bidirectional_LSTM_history, bidirectional_GRU_history]\n",
        "epochs = range(1,101)\n",
        "plt.figure(figsize = (11,9))\n",
        "for i in models:\n",
        "  plt.plot(epochs, np.sqrt(i.history['mse']))\n",
        "plt.title('Training RMSE of Different RNN Models')\n",
        "plt.legend(['LSTM Model','GRU Model', 'Bidirectional LSTM Model', 'Bidirectional GRU Model'])\n",
        "plt.xlabel('epochs')\n",
        "plt.ylabel('RMSE')"
      ],
      "execution_count": null,
      "outputs": [
        {
          "output_type": "execute_result",
          "data": {
            "text/plain": [
              "Text(0, 0.5, 'RMSE')"
            ]
          },
          "metadata": {
            "tags": []
          },
          "execution_count": 59
        },
        {
          "output_type": "display_data",
          "data": {
            "image/png": "[encoded data removed]",
            "text/plain": [
              "<Figure size 792x648 with 1 Axes>"
            ]
          },
          "metadata": {
            "tags": [],
            "needs_background": "light"
          }
        }
      ]
    },
    {
      "cell_type": "code",
      "metadata": {
        "colab": {
          "base_uri": "https://localhost:8080/",
          "height": 583
        },
        "id": "y5sfLYxXMIj2",
        "outputId": "dd7be835-40d2-4406-c360-6fe3838fe801"
      },
      "source": [
        "#Plotting Validation MAPE of the Models\n",
        "models = [lstm_history, gru_history, bidirectional_LSTM_history, bidirectional_GRU_history]\n",
        "epochs = range(1,101)\n",
        "plt.figure(figsize = (11,9))\n",
        "for i in models:\n",
        "  plt.plot(epochs, i.history['val_mape'])\n",
        "plt.title('Validation MAPE of Different RNN Models')\n",
        "plt.legend(['LSTM Model','GRU Model', 'Bidirectional LSTM Model', 'Bidirectional GRU Model'])\n",
        "plt.xlabel('epochs')\n",
        "plt.ylabel('MAPE (%)')"
      ],
      "execution_count": null,
      "outputs": [
        {
          "output_type": "execute_result",
          "data": {
            "text/plain": [
              "Text(0, 0.5, 'MAPE (%)')"
            ]
          },
          "metadata": {
            "tags": []
          },
          "execution_count": 60
        },
        {
          "output_type": "display_data",
          "data": {
            "image/png": "[encoded data removed]",
            "text/plain": [
              "<Figure size 792x648 with 1 Axes>"
            ]
          },
          "metadata": {
            "tags": [],
            "needs_background": "light"
          }
        }
      ]
    },
    {
      "cell_type": "code",
      "metadata": {
        "colab": {
          "base_uri": "https://localhost:8080/",
          "height": 583
        },
        "id": "hGSHT7WVMXQT",
        "outputId": "4948bd8f-3d7b-4946-a61c-cec702329a2b"
      },
      "source": [
        "#Plotting Validation RMSE of the Models\n",
        "models = [lstm_history, gru_history, bidirectional_LSTM_history, bidirectional_GRU_history]\n",
        "epochs = range(1,101)\n",
        "plt.figure(figsize = (11,9))\n",
        "for i in models:\n",
        "  plt.plot(epochs, np.sqrt(i.history['val_mse']))\n",
        "plt.title('Validation RMSE of Different RNN Models')\n",
        "plt.legend(['LSTM Model','GRU Model', 'Bidirectional LSTM Model', 'Bidirectional GRU Model'])\n",
        "plt.xlabel('epochs')\n",
        "plt.ylabel('RMSE')"
      ],
      "execution_count": null,
      "outputs": [
        {
          "output_type": "execute_result",
          "data": {
            "text/plain": [
              "Text(0, 0.5, 'RMSE')"
            ]
          },
          "metadata": {
            "tags": []
          },
          "execution_count": 61
        },
        {
          "output_type": "display_data",
          "data": {
            "image/png": "[encoded data removed]",
            "text/plain": [
              "<Figure size 792x648 with 1 Axes>"
            ]
          },
          "metadata": {
            "tags": [],
            "needs_background": "light"
          }
        }
      ]
    },
    {
      "cell_type": "markdown",
      "metadata": {
        "id": "RJcTwxyaMuX-"
      },
      "source": [
        "From the four plots above the best performing model is the bidirectional GRU model therefore this would be saved as our model to be used on the test set"
      ]
    },
    {
      "cell_type": "markdown",
      "metadata": {
        "id": "gbBgXhj5UmDO"
      },
      "source": [
        "# REPORT\n"
      ]
    },
    {
      "cell_type": "code",
      "metadata": {
        "colab": {
          "base_uri": "https://localhost:8080/",
          "height": 306
        },
        "id": "IU1_v-JNV9qX",
        "outputId": "c52a7c4c-edaa-4b29-b626-abc60de8264f"
      },
      "source": [
        "data.head()"
      ],
      "execution_count": null,
      "outputs": [
        {
          "output_type": "execute_result",
          "data": {
            "text/html": [
              "<div>\n",
              "<style scoped>\n",
              "    .dataframe tbody tr th:only-of-type {\n",
              "        vertical-align: middle;\n",
              "    }\n",
              "\n",
              "    .dataframe tbody tr th {\n",
              "        vertical-align: top;\n",
              "    }\n",
              "\n",
              "    .dataframe thead th {\n",
              "        text-align: right;\n",
              "    }\n",
              "</style>\n",
              "<table border=\"1\" class=\"dataframe\">\n",
              "  <thead>\n",
              "    <tr style=\"text-align: right;\">\n",
              "      <th></th>\n",
              "      <th>Date</th>\n",
              "      <th>Close/Last</th>\n",
              "      <th>Volume</th>\n",
              "      <th>Open</th>\n",
              "      <th>High</th>\n",
              "      <th>Low</th>\n",
              "      <th>Volume_Previous_Day</th>\n",
              "      <th>Volume_Previous_2Days</th>\n",
              "      <th>Volume_Previous_3Days</th>\n",
              "      <th>Open_Previous_Day</th>\n",
              "      <th>Open_Previous_2Days</th>\n",
              "      <th>Open_Previous_3Days</th>\n",
              "      <th>High_Previous_Day</th>\n",
              "      <th>High_Previous_2Days</th>\n",
              "      <th>High_Previous_3Days</th>\n",
              "      <th>Low_Previous_Day</th>\n",
              "      <th>Low_Previous_2Days</th>\n",
              "      <th>Low_Previous_3Days</th>\n",
              "      <th>Next_Open</th>\n",
              "    </tr>\n",
              "  </thead>\n",
              "  <tbody>\n",
              "    <tr>\n",
              "      <th>0</th>\n",
              "      <td>2020-07-08</td>\n",
              "      <td>$381.37</td>\n",
              "      <td>29272970</td>\n",
              "      <td>376.72</td>\n",
              "      <td>381.50</td>\n",
              "      <td>376.36</td>\n",
              "      <td>28106110.0</td>\n",
              "      <td>29663910.0</td>\n",
              "      <td>28510370.0</td>\n",
              "      <td>375.41</td>\n",
              "      <td>370.00</td>\n",
              "      <td>367.85</td>\n",
              "      <td>378.62</td>\n",
              "      <td>375.78</td>\n",
              "      <td>370.47</td>\n",
              "      <td>372.23</td>\n",
              "      <td>369.87</td>\n",
              "      <td>363.64</td>\n",
              "      <td>NaN</td>\n",
              "    </tr>\n",
              "    <tr>\n",
              "      <th>1</th>\n",
              "      <td>2020-07-07</td>\n",
              "      <td>$372.69</td>\n",
              "      <td>28106110</td>\n",
              "      <td>375.41</td>\n",
              "      <td>378.62</td>\n",
              "      <td>372.23</td>\n",
              "      <td>29663910.0</td>\n",
              "      <td>28510370.0</td>\n",
              "      <td>27684310.0</td>\n",
              "      <td>370.00</td>\n",
              "      <td>367.85</td>\n",
              "      <td>365.12</td>\n",
              "      <td>375.78</td>\n",
              "      <td>370.47</td>\n",
              "      <td>367.36</td>\n",
              "      <td>369.87</td>\n",
              "      <td>363.64</td>\n",
              "      <td>363.91</td>\n",
              "      <td>376.72</td>\n",
              "    </tr>\n",
              "    <tr>\n",
              "      <th>2</th>\n",
              "      <td>2020-07-06</td>\n",
              "      <td>$373.85</td>\n",
              "      <td>29663910</td>\n",
              "      <td>370.00</td>\n",
              "      <td>375.78</td>\n",
              "      <td>369.87</td>\n",
              "      <td>28510370.0</td>\n",
              "      <td>27684310.0</td>\n",
              "      <td>35055820.0</td>\n",
              "      <td>367.85</td>\n",
              "      <td>365.12</td>\n",
              "      <td>360.08</td>\n",
              "      <td>370.47</td>\n",
              "      <td>367.36</td>\n",
              "      <td>365.98</td>\n",
              "      <td>363.64</td>\n",
              "      <td>363.91</td>\n",
              "      <td>360.00</td>\n",
              "      <td>375.41</td>\n",
              "    </tr>\n",
              "    <tr>\n",
              "      <th>3</th>\n",
              "      <td>2020-07-02</td>\n",
              "      <td>$364.11</td>\n",
              "      <td>28510370</td>\n",
              "      <td>367.85</td>\n",
              "      <td>370.47</td>\n",
              "      <td>363.64</td>\n",
              "      <td>27684310.0</td>\n",
              "      <td>35055820.0</td>\n",
              "      <td>32661520.0</td>\n",
              "      <td>365.12</td>\n",
              "      <td>360.08</td>\n",
              "      <td>353.25</td>\n",
              "      <td>367.36</td>\n",
              "      <td>365.98</td>\n",
              "      <td>362.17</td>\n",
              "      <td>363.91</td>\n",
              "      <td>360.00</td>\n",
              "      <td>351.28</td>\n",
              "      <td>370.00</td>\n",
              "    </tr>\n",
              "    <tr>\n",
              "      <th>4</th>\n",
              "      <td>2020-07-01</td>\n",
              "      <td>$364.11</td>\n",
              "      <td>27684310</td>\n",
              "      <td>365.12</td>\n",
              "      <td>367.36</td>\n",
              "      <td>363.91</td>\n",
              "      <td>35055820.0</td>\n",
              "      <td>32661520.0</td>\n",
              "      <td>51314210.0</td>\n",
              "      <td>360.08</td>\n",
              "      <td>353.25</td>\n",
              "      <td>364.41</td>\n",
              "      <td>365.98</td>\n",
              "      <td>362.17</td>\n",
              "      <td>365.32</td>\n",
              "      <td>360.00</td>\n",
              "      <td>351.28</td>\n",
              "      <td>353.02</td>\n",
              "      <td>367.85</td>\n",
              "    </tr>\n",
              "  </tbody>\n",
              "</table>\n",
              "</div>"
            ],
            "text/plain": [
              "        Date  Close/Last  ...  Low_Previous_3Days  Next_Open\n",
              "0 2020-07-08     $381.37  ...              363.64        NaN\n",
              "1 2020-07-07     $372.69  ...              363.91     376.72\n",
              "2 2020-07-06     $373.85  ...              360.00     375.41\n",
              "3 2020-07-02     $364.11  ...              351.28     370.00\n",
              "4 2020-07-01     $364.11  ...              353.02     367.85\n",
              "\n",
              "[5 rows x 19 columns]"
            ]
          },
          "metadata": {
            "tags": []
          },
          "execution_count": 65
        }
      ]
    },
    {
      "cell_type": "markdown",
      "metadata": {
        "id": "NptMb1PHVOSV"
      },
      "source": [
        "**How the dataset was created**\n",
        "\n",
        "\n",
        "1.   The dataset was first arranged from latest date to the earliest date. \n",
        "2.   The previous 3 values of the respective features were created using the python in built shift function which lets you pick the previous value in your dataframe.\n",
        "3. The date column, close/last, volume, open, high, low features were all dropped resulting in the final dataframe\n",
        "4. Finally, sci-kit learn's train_test_split function was used to split the dataset into train and test with 70% as the train and shuffle = True to randomize it. Our target input was set to the next day open value and all other remaining features as the input\n",
        "\n",
        "**Preprocessing Steps**\n",
        "\n",
        "\n",
        "1.   We normalized all our inputs to ease training.\n",
        "2.   We set our random seed to get the same output everytime we ran our model\n",
        "3. We had to reshape our inputs to suitable format for RNN which is (number of samples, number of timesteps, number of features). Our number of timesteps was 1 because we already brought the values of our previous timesteps to be features of each sample. We also shuffled our dataset, so it would not have been wise to look back at the previous value when training.\n",
        "\n",
        "**Design Steps**\n",
        "\n",
        "\n",
        "*   We started out with the most popular RNN model types - LSTM and its improvement the GRU model.\n",
        "* We set our loss to be the mse because it is a regression task and decided to track the mean absolute percentage error as well.\n",
        "* We tried out simple models of 1 hidden layer with 256 neurons in input and hidden layer using the default tanh activation function and dropout layers with rates of 0.2. After training these 2 models for 50 epochs, we noticed the GRU model performed slightly better, however, we still had high mse loss.\n",
        "*  We decided to add another hidden layer with the same number of neurons and a dropout layer to prevent overfitting. After doing this we trained for 100 epochs and noticed drastic improvements.\n",
        "* After doing this, we also decided to try the newer bidirectional models of GRU and LSTM. The validation and training mse and mape values are plotted for the final four models.\n",
        "* The bidirectional GRU model performed best in both validation and training and was therefore saved as the final model.\n",
        "\n",
        "\n",
        "**Final Model Architecture**\n",
        "* 1 input layer of 256 neurons\n",
        "* 2 hidden layers of 256 neurons\n",
        "* 1 output layer of 1 neuron\n",
        "* Activation function for the input and hidden layers are tanh function\n",
        "* Dropout layers of rate 0.2 were added after each layer except the output layer\n",
        "* It was trained for 100 epochs\n",
        "* Batch size of 32\n",
        "* Optimizer - Adam was used \n",
        "* Loss was mean squared error\n",
        "The model summary is shown below\n",
        "\n",
        "\n",
        "\n"
      ]
    },
    {
      "cell_type": "code",
      "metadata": {
        "colab": {
          "base_uri": "https://localhost:8080/"
        },
        "id": "slSRs4kvMmIF",
        "outputId": "85e2cf6b-1147-433a-d54b-ab34e362e138"
      },
      "source": [
        "bidirectional_GRU.summary()"
      ],
      "execution_count": null,
      "outputs": [
        {
          "output_type": "stream",
          "text": [
            "Model: \"sequential_11\"\n",
            "_________________________________________________________________\n",
            "Layer (type)                 Output Shape              Param #   \n",
            "=================================================================\n",
            "bidirectional_18 (Bidirectio (None, 1, 512)            414720    \n",
            "_________________________________________________________________\n",
            "dropout_28 (Dropout)         (None, 1, 512)            0         \n",
            "_________________________________________________________________\n",
            "bidirectional_19 (Bidirectio (None, 1, 512)            1182720   \n",
            "_________________________________________________________________\n",
            "dropout_29 (Dropout)         (None, 1, 512)            0         \n",
            "_________________________________________________________________\n",
            "bidirectional_20 (Bidirectio (None, 512)               1182720   \n",
            "_________________________________________________________________\n",
            "dropout_30 (Dropout)         (None, 512)               0         \n",
            "_________________________________________________________________\n",
            "dense_10 (Dense)             (None, 1)                 513       \n",
            "=================================================================\n",
            "Total params: 2,780,673\n",
            "Trainable params: 2,780,673\n",
            "Non-trainable params: 0\n",
            "_________________________________________________________________\n"
          ],
          "name": "stdout"
        }
      ]
    },
    {
      "cell_type": "markdown",
      "metadata": {
        "id": "QEEHh9ift0OU"
      },
      "source": [
        "If we used more days for features, the model would improve as it is more data whoch essentially means more timesteps for the RNN model. We expect training and validation accuracy to improve "
      ]
    },
    {
      "cell_type": "code",
      "metadata": {
        "id": "drydb4pcaPEL"
      },
      "source": [
        ""
      ],
      "execution_count": null,
      "outputs": []
    }
  ]
}